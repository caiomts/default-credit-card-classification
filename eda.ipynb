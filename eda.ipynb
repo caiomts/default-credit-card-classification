{
 "cells": [
  {
   "cell_type": "markdown",
   "id": "2e38ae96-4fad-40e7-b15a-5ad3033e4774",
   "metadata": {},
   "source": [
    "# Exploratory Data Analysis\n",
    "\n",
    "* Describing the data\n",
    "* Datailing the main objectives of the analysis\n",
    "* Variations of classifier models and specifies which one is the model that best suits the main objective(s) of this analysis\n",
    "* Key findings related to the main objective(s) of the analysis?\n",
    "* Highlight possible flaws in the model and a plan of action to revisit this analysis with additional data or different predictive modeling techniques\n",
    "\n",
    "## 0. Imports"
   ]
  },
  {
   "cell_type": "code",
   "execution_count": 56,
   "id": "210763ec-0932-4ae3-b3f7-e6defe81ff55",
   "metadata": {
    "execution": {
     "iopub.execute_input": "2021-08-08T11:02:37.757537Z",
     "iopub.status.busy": "2021-08-08T11:02:37.757102Z",
     "iopub.status.idle": "2021-08-08T11:02:37.766391Z",
     "shell.execute_reply": "2021-08-08T11:02:37.765048Z",
     "shell.execute_reply.started": "2021-08-08T11:02:37.757468Z"
    },
    "tags": []
   },
   "outputs": [],
   "source": [
    "import pandas as pd\n",
    "import numpy as np\n",
    "import os\n",
    "import matplotlib.pyplot as plt\n",
    "import seaborn as sns\n",
    "from sklearn.ensemble import ExtraTreesClassifier, RandomForestClassifier\n",
    "from sklearn.model_selection import RandomizedSearchCV\n",
    "from sklearn.metrics import f1_score"
   ]
  },
  {
   "cell_type": "markdown",
   "id": "5f71d5f5-f373-4181-a3e1-1e659e09314d",
   "metadata": {},
   "source": [
    "## 1. Load data"
   ]
  },
  {
   "cell_type": "code",
   "execution_count": 3,
   "id": "4dbff9a5-c163-4b0b-ba33-591a99985653",
   "metadata": {
    "execution": {
     "iopub.execute_input": "2021-08-08T07:32:52.941972Z",
     "iopub.status.busy": "2021-08-08T07:32:52.941405Z",
     "iopub.status.idle": "2021-08-08T07:32:53.034528Z",
     "shell.execute_reply": "2021-08-08T07:32:53.032940Z",
     "shell.execute_reply.started": "2021-08-08T07:32:52.941867Z"
    },
    "tags": []
   },
   "outputs": [],
   "source": [
    "data_path = os.path.join('data', 'default_credit_card_clients.csv')\n",
    "data_raw = pd.read_csv(data_path, skiprows=1)"
   ]
  },
  {
   "cell_type": "code",
   "execution_count": 4,
   "id": "29ead62e-9699-4498-8f74-d89623657a41",
   "metadata": {
    "execution": {
     "iopub.execute_input": "2021-08-08T07:33:02.735744Z",
     "iopub.status.busy": "2021-08-08T07:33:02.735221Z",
     "iopub.status.idle": "2021-08-08T07:33:02.802940Z",
     "shell.execute_reply": "2021-08-08T07:33:02.801220Z",
     "shell.execute_reply.started": "2021-08-08T07:33:02.735635Z"
    }
   },
   "outputs": [
    {
     "data": {
      "text/html": [
       "<div>\n",
       "<style scoped>\n",
       "    .dataframe tbody tr th:only-of-type {\n",
       "        vertical-align: middle;\n",
       "    }\n",
       "\n",
       "    .dataframe tbody tr th {\n",
       "        vertical-align: top;\n",
       "    }\n",
       "\n",
       "    .dataframe thead th {\n",
       "        text-align: right;\n",
       "    }\n",
       "</style>\n",
       "<table border=\"1\" class=\"dataframe\">\n",
       "  <thead>\n",
       "    <tr style=\"text-align: right;\">\n",
       "      <th></th>\n",
       "      <th>LIMIT_BAL</th>\n",
       "      <th>SEX</th>\n",
       "      <th>EDUCATION</th>\n",
       "      <th>MARRIAGE</th>\n",
       "      <th>AGE</th>\n",
       "      <th>PAY_0</th>\n",
       "      <th>PAY_2</th>\n",
       "      <th>PAY_3</th>\n",
       "      <th>PAY_4</th>\n",
       "      <th>PAY_5</th>\n",
       "      <th>...</th>\n",
       "      <th>BILL_AMT4</th>\n",
       "      <th>BILL_AMT5</th>\n",
       "      <th>BILL_AMT6</th>\n",
       "      <th>PAY_AMT1</th>\n",
       "      <th>PAY_AMT2</th>\n",
       "      <th>PAY_AMT3</th>\n",
       "      <th>PAY_AMT4</th>\n",
       "      <th>PAY_AMT5</th>\n",
       "      <th>PAY_AMT6</th>\n",
       "      <th>default payment next month</th>\n",
       "    </tr>\n",
       "  </thead>\n",
       "  <tbody>\n",
       "    <tr>\n",
       "      <th>0</th>\n",
       "      <td>20000</td>\n",
       "      <td>2</td>\n",
       "      <td>2</td>\n",
       "      <td>1</td>\n",
       "      <td>24</td>\n",
       "      <td>2</td>\n",
       "      <td>2</td>\n",
       "      <td>-1</td>\n",
       "      <td>-1</td>\n",
       "      <td>-2</td>\n",
       "      <td>...</td>\n",
       "      <td>0</td>\n",
       "      <td>0</td>\n",
       "      <td>0</td>\n",
       "      <td>0</td>\n",
       "      <td>689</td>\n",
       "      <td>0</td>\n",
       "      <td>0</td>\n",
       "      <td>0</td>\n",
       "      <td>0</td>\n",
       "      <td>1</td>\n",
       "    </tr>\n",
       "    <tr>\n",
       "      <th>1</th>\n",
       "      <td>120000</td>\n",
       "      <td>2</td>\n",
       "      <td>2</td>\n",
       "      <td>2</td>\n",
       "      <td>26</td>\n",
       "      <td>-1</td>\n",
       "      <td>2</td>\n",
       "      <td>0</td>\n",
       "      <td>0</td>\n",
       "      <td>0</td>\n",
       "      <td>...</td>\n",
       "      <td>3272</td>\n",
       "      <td>3455</td>\n",
       "      <td>3261</td>\n",
       "      <td>0</td>\n",
       "      <td>1000</td>\n",
       "      <td>1000</td>\n",
       "      <td>1000</td>\n",
       "      <td>0</td>\n",
       "      <td>2000</td>\n",
       "      <td>1</td>\n",
       "    </tr>\n",
       "    <tr>\n",
       "      <th>2</th>\n",
       "      <td>90000</td>\n",
       "      <td>2</td>\n",
       "      <td>2</td>\n",
       "      <td>2</td>\n",
       "      <td>34</td>\n",
       "      <td>0</td>\n",
       "      <td>0</td>\n",
       "      <td>0</td>\n",
       "      <td>0</td>\n",
       "      <td>0</td>\n",
       "      <td>...</td>\n",
       "      <td>14331</td>\n",
       "      <td>14948</td>\n",
       "      <td>15549</td>\n",
       "      <td>1518</td>\n",
       "      <td>1500</td>\n",
       "      <td>1000</td>\n",
       "      <td>1000</td>\n",
       "      <td>1000</td>\n",
       "      <td>5000</td>\n",
       "      <td>0</td>\n",
       "    </tr>\n",
       "    <tr>\n",
       "      <th>3</th>\n",
       "      <td>50000</td>\n",
       "      <td>2</td>\n",
       "      <td>2</td>\n",
       "      <td>1</td>\n",
       "      <td>37</td>\n",
       "      <td>0</td>\n",
       "      <td>0</td>\n",
       "      <td>0</td>\n",
       "      <td>0</td>\n",
       "      <td>0</td>\n",
       "      <td>...</td>\n",
       "      <td>28314</td>\n",
       "      <td>28959</td>\n",
       "      <td>29547</td>\n",
       "      <td>2000</td>\n",
       "      <td>2019</td>\n",
       "      <td>1200</td>\n",
       "      <td>1100</td>\n",
       "      <td>1069</td>\n",
       "      <td>1000</td>\n",
       "      <td>0</td>\n",
       "    </tr>\n",
       "    <tr>\n",
       "      <th>4</th>\n",
       "      <td>50000</td>\n",
       "      <td>1</td>\n",
       "      <td>2</td>\n",
       "      <td>1</td>\n",
       "      <td>57</td>\n",
       "      <td>-1</td>\n",
       "      <td>0</td>\n",
       "      <td>-1</td>\n",
       "      <td>0</td>\n",
       "      <td>0</td>\n",
       "      <td>...</td>\n",
       "      <td>20940</td>\n",
       "      <td>19146</td>\n",
       "      <td>19131</td>\n",
       "      <td>2000</td>\n",
       "      <td>36681</td>\n",
       "      <td>10000</td>\n",
       "      <td>9000</td>\n",
       "      <td>689</td>\n",
       "      <td>679</td>\n",
       "      <td>0</td>\n",
       "    </tr>\n",
       "  </tbody>\n",
       "</table>\n",
       "<p>5 rows × 24 columns</p>\n",
       "</div>"
      ],
      "text/plain": [
       "   LIMIT_BAL  SEX  EDUCATION  MARRIAGE  AGE  PAY_0  PAY_2  PAY_3  PAY_4  \\\n",
       "0      20000    2          2         1   24      2      2     -1     -1   \n",
       "1     120000    2          2         2   26     -1      2      0      0   \n",
       "2      90000    2          2         2   34      0      0      0      0   \n",
       "3      50000    2          2         1   37      0      0      0      0   \n",
       "4      50000    1          2         1   57     -1      0     -1      0   \n",
       "\n",
       "   PAY_5  ...  BILL_AMT4  BILL_AMT5  BILL_AMT6  PAY_AMT1  PAY_AMT2  PAY_AMT3  \\\n",
       "0     -2  ...          0          0          0         0       689         0   \n",
       "1      0  ...       3272       3455       3261         0      1000      1000   \n",
       "2      0  ...      14331      14948      15549      1518      1500      1000   \n",
       "3      0  ...      28314      28959      29547      2000      2019      1200   \n",
       "4      0  ...      20940      19146      19131      2000     36681     10000   \n",
       "\n",
       "   PAY_AMT4  PAY_AMT5  PAY_AMT6  default payment next month  \n",
       "0         0         0         0                           1  \n",
       "1      1000         0      2000                           1  \n",
       "2      1000      1000      5000                           0  \n",
       "3      1100      1069      1000                           0  \n",
       "4      9000       689       679                           0  \n",
       "\n",
       "[5 rows x 24 columns]"
      ]
     },
     "execution_count": 4,
     "metadata": {},
     "output_type": "execute_result"
    }
   ],
   "source": [
    "data_raw.head()"
   ]
  },
  {
   "cell_type": "code",
   "execution_count": 8,
   "id": "10f40dbb-7a59-4f1b-bd4b-5516268e2009",
   "metadata": {
    "execution": {
     "iopub.execute_input": "2021-08-08T07:43:40.349966Z",
     "iopub.status.busy": "2021-08-08T07:43:40.349510Z",
     "iopub.status.idle": "2021-08-08T07:43:40.371153Z",
     "shell.execute_reply": "2021-08-08T07:43:40.369746Z",
     "shell.execute_reply.started": "2021-08-08T07:43:40.349918Z"
    },
    "tags": []
   },
   "outputs": [
    {
     "name": "stdout",
     "output_type": "stream",
     "text": [
      "<class 'pandas.core.frame.DataFrame'>\n",
      "RangeIndex: 30000 entries, 0 to 29999\n",
      "Data columns (total 24 columns):\n",
      " #   Column                      Non-Null Count  Dtype\n",
      "---  ------                      --------------  -----\n",
      " 0   LIMIT_BAL                   30000 non-null  int64\n",
      " 1   SEX                         30000 non-null  int64\n",
      " 2   EDUCATION                   30000 non-null  int64\n",
      " 3   MARRIAGE                    30000 non-null  int64\n",
      " 4   AGE                         30000 non-null  int64\n",
      " 5   PAY_0                       30000 non-null  int64\n",
      " 6   PAY_2                       30000 non-null  int64\n",
      " 7   PAY_3                       30000 non-null  int64\n",
      " 8   PAY_4                       30000 non-null  int64\n",
      " 9   PAY_5                       30000 non-null  int64\n",
      " 10  PAY_6                       30000 non-null  int64\n",
      " 11  BILL_AMT1                   30000 non-null  int64\n",
      " 12  BILL_AMT2                   30000 non-null  int64\n",
      " 13  BILL_AMT3                   30000 non-null  int64\n",
      " 14  BILL_AMT4                   30000 non-null  int64\n",
      " 15  BILL_AMT5                   30000 non-null  int64\n",
      " 16  BILL_AMT6                   30000 non-null  int64\n",
      " 17  PAY_AMT1                    30000 non-null  int64\n",
      " 18  PAY_AMT2                    30000 non-null  int64\n",
      " 19  PAY_AMT3                    30000 non-null  int64\n",
      " 20  PAY_AMT4                    30000 non-null  int64\n",
      " 21  PAY_AMT5                    30000 non-null  int64\n",
      " 22  PAY_AMT6                    30000 non-null  int64\n",
      " 23  default payment next month  30000 non-null  int64\n",
      "dtypes: int64(24)\n",
      "memory usage: 5.5 MB\n"
     ]
    }
   ],
   "source": [
    "data_raw.info()"
   ]
  },
  {
   "cell_type": "markdown",
   "id": "68e82737-feb4-44d8-803e-b26c39b5185b",
   "metadata": {},
   "source": [
    "## 2. Previous Exploratory Analysis"
   ]
  },
  {
   "cell_type": "code",
   "execution_count": 7,
   "id": "9aff2c25-1fea-484b-96a8-d09397367b46",
   "metadata": {
    "execution": {
     "iopub.execute_input": "2021-08-08T07:37:09.198887Z",
     "iopub.status.busy": "2021-08-08T07:37:09.198514Z",
     "iopub.status.idle": "2021-08-08T07:37:09.326219Z",
     "shell.execute_reply": "2021-08-08T07:37:09.324437Z",
     "shell.execute_reply.started": "2021-08-08T07:37:09.198845Z"
    },
    "tags": []
   },
   "outputs": [
    {
     "data": {
      "text/html": [
       "<div>\n",
       "<style scoped>\n",
       "    .dataframe tbody tr th:only-of-type {\n",
       "        vertical-align: middle;\n",
       "    }\n",
       "\n",
       "    .dataframe tbody tr th {\n",
       "        vertical-align: top;\n",
       "    }\n",
       "\n",
       "    .dataframe thead th {\n",
       "        text-align: right;\n",
       "    }\n",
       "</style>\n",
       "<table border=\"1\" class=\"dataframe\">\n",
       "  <thead>\n",
       "    <tr style=\"text-align: right;\">\n",
       "      <th></th>\n",
       "      <th>count</th>\n",
       "      <th>mean</th>\n",
       "      <th>std</th>\n",
       "      <th>min</th>\n",
       "      <th>25%</th>\n",
       "      <th>50%</th>\n",
       "      <th>75%</th>\n",
       "      <th>max</th>\n",
       "    </tr>\n",
       "  </thead>\n",
       "  <tbody>\n",
       "    <tr>\n",
       "      <th>LIMIT_BAL</th>\n",
       "      <td>30000.0</td>\n",
       "      <td>167484.322667</td>\n",
       "      <td>129747.661567</td>\n",
       "      <td>10000.0</td>\n",
       "      <td>50000.00</td>\n",
       "      <td>140000.0</td>\n",
       "      <td>240000.00</td>\n",
       "      <td>1000000.0</td>\n",
       "    </tr>\n",
       "    <tr>\n",
       "      <th>SEX</th>\n",
       "      <td>30000.0</td>\n",
       "      <td>1.603733</td>\n",
       "      <td>0.489129</td>\n",
       "      <td>1.0</td>\n",
       "      <td>1.00</td>\n",
       "      <td>2.0</td>\n",
       "      <td>2.00</td>\n",
       "      <td>2.0</td>\n",
       "    </tr>\n",
       "    <tr>\n",
       "      <th>EDUCATION</th>\n",
       "      <td>30000.0</td>\n",
       "      <td>1.853133</td>\n",
       "      <td>0.790349</td>\n",
       "      <td>0.0</td>\n",
       "      <td>1.00</td>\n",
       "      <td>2.0</td>\n",
       "      <td>2.00</td>\n",
       "      <td>6.0</td>\n",
       "    </tr>\n",
       "    <tr>\n",
       "      <th>MARRIAGE</th>\n",
       "      <td>30000.0</td>\n",
       "      <td>1.551867</td>\n",
       "      <td>0.521970</td>\n",
       "      <td>0.0</td>\n",
       "      <td>1.00</td>\n",
       "      <td>2.0</td>\n",
       "      <td>2.00</td>\n",
       "      <td>3.0</td>\n",
       "    </tr>\n",
       "    <tr>\n",
       "      <th>AGE</th>\n",
       "      <td>30000.0</td>\n",
       "      <td>35.485500</td>\n",
       "      <td>9.217904</td>\n",
       "      <td>21.0</td>\n",
       "      <td>28.00</td>\n",
       "      <td>34.0</td>\n",
       "      <td>41.00</td>\n",
       "      <td>79.0</td>\n",
       "    </tr>\n",
       "    <tr>\n",
       "      <th>PAY_0</th>\n",
       "      <td>30000.0</td>\n",
       "      <td>-0.016700</td>\n",
       "      <td>1.123802</td>\n",
       "      <td>-2.0</td>\n",
       "      <td>-1.00</td>\n",
       "      <td>0.0</td>\n",
       "      <td>0.00</td>\n",
       "      <td>8.0</td>\n",
       "    </tr>\n",
       "    <tr>\n",
       "      <th>PAY_2</th>\n",
       "      <td>30000.0</td>\n",
       "      <td>-0.133767</td>\n",
       "      <td>1.197186</td>\n",
       "      <td>-2.0</td>\n",
       "      <td>-1.00</td>\n",
       "      <td>0.0</td>\n",
       "      <td>0.00</td>\n",
       "      <td>8.0</td>\n",
       "    </tr>\n",
       "    <tr>\n",
       "      <th>PAY_3</th>\n",
       "      <td>30000.0</td>\n",
       "      <td>-0.166200</td>\n",
       "      <td>1.196868</td>\n",
       "      <td>-2.0</td>\n",
       "      <td>-1.00</td>\n",
       "      <td>0.0</td>\n",
       "      <td>0.00</td>\n",
       "      <td>8.0</td>\n",
       "    </tr>\n",
       "    <tr>\n",
       "      <th>PAY_4</th>\n",
       "      <td>30000.0</td>\n",
       "      <td>-0.220667</td>\n",
       "      <td>1.169139</td>\n",
       "      <td>-2.0</td>\n",
       "      <td>-1.00</td>\n",
       "      <td>0.0</td>\n",
       "      <td>0.00</td>\n",
       "      <td>8.0</td>\n",
       "    </tr>\n",
       "    <tr>\n",
       "      <th>PAY_5</th>\n",
       "      <td>30000.0</td>\n",
       "      <td>-0.266200</td>\n",
       "      <td>1.133187</td>\n",
       "      <td>-2.0</td>\n",
       "      <td>-1.00</td>\n",
       "      <td>0.0</td>\n",
       "      <td>0.00</td>\n",
       "      <td>8.0</td>\n",
       "    </tr>\n",
       "    <tr>\n",
       "      <th>PAY_6</th>\n",
       "      <td>30000.0</td>\n",
       "      <td>-0.291100</td>\n",
       "      <td>1.149988</td>\n",
       "      <td>-2.0</td>\n",
       "      <td>-1.00</td>\n",
       "      <td>0.0</td>\n",
       "      <td>0.00</td>\n",
       "      <td>8.0</td>\n",
       "    </tr>\n",
       "    <tr>\n",
       "      <th>BILL_AMT1</th>\n",
       "      <td>30000.0</td>\n",
       "      <td>51223.330900</td>\n",
       "      <td>73635.860576</td>\n",
       "      <td>-165580.0</td>\n",
       "      <td>3558.75</td>\n",
       "      <td>22381.5</td>\n",
       "      <td>67091.00</td>\n",
       "      <td>964511.0</td>\n",
       "    </tr>\n",
       "    <tr>\n",
       "      <th>BILL_AMT2</th>\n",
       "      <td>30000.0</td>\n",
       "      <td>49179.075167</td>\n",
       "      <td>71173.768783</td>\n",
       "      <td>-69777.0</td>\n",
       "      <td>2984.75</td>\n",
       "      <td>21200.0</td>\n",
       "      <td>64006.25</td>\n",
       "      <td>983931.0</td>\n",
       "    </tr>\n",
       "    <tr>\n",
       "      <th>BILL_AMT3</th>\n",
       "      <td>30000.0</td>\n",
       "      <td>47013.154800</td>\n",
       "      <td>69349.387427</td>\n",
       "      <td>-157264.0</td>\n",
       "      <td>2666.25</td>\n",
       "      <td>20088.5</td>\n",
       "      <td>60164.75</td>\n",
       "      <td>1664089.0</td>\n",
       "    </tr>\n",
       "    <tr>\n",
       "      <th>BILL_AMT4</th>\n",
       "      <td>30000.0</td>\n",
       "      <td>43262.948967</td>\n",
       "      <td>64332.856134</td>\n",
       "      <td>-170000.0</td>\n",
       "      <td>2326.75</td>\n",
       "      <td>19052.0</td>\n",
       "      <td>54506.00</td>\n",
       "      <td>891586.0</td>\n",
       "    </tr>\n",
       "    <tr>\n",
       "      <th>BILL_AMT5</th>\n",
       "      <td>30000.0</td>\n",
       "      <td>40311.400967</td>\n",
       "      <td>60797.155770</td>\n",
       "      <td>-81334.0</td>\n",
       "      <td>1763.00</td>\n",
       "      <td>18104.5</td>\n",
       "      <td>50190.50</td>\n",
       "      <td>927171.0</td>\n",
       "    </tr>\n",
       "    <tr>\n",
       "      <th>BILL_AMT6</th>\n",
       "      <td>30000.0</td>\n",
       "      <td>38871.760400</td>\n",
       "      <td>59554.107537</td>\n",
       "      <td>-339603.0</td>\n",
       "      <td>1256.00</td>\n",
       "      <td>17071.0</td>\n",
       "      <td>49198.25</td>\n",
       "      <td>961664.0</td>\n",
       "    </tr>\n",
       "    <tr>\n",
       "      <th>PAY_AMT1</th>\n",
       "      <td>30000.0</td>\n",
       "      <td>5663.580500</td>\n",
       "      <td>16563.280354</td>\n",
       "      <td>0.0</td>\n",
       "      <td>1000.00</td>\n",
       "      <td>2100.0</td>\n",
       "      <td>5006.00</td>\n",
       "      <td>873552.0</td>\n",
       "    </tr>\n",
       "    <tr>\n",
       "      <th>PAY_AMT2</th>\n",
       "      <td>30000.0</td>\n",
       "      <td>5921.163500</td>\n",
       "      <td>23040.870402</td>\n",
       "      <td>0.0</td>\n",
       "      <td>833.00</td>\n",
       "      <td>2009.0</td>\n",
       "      <td>5000.00</td>\n",
       "      <td>1684259.0</td>\n",
       "    </tr>\n",
       "    <tr>\n",
       "      <th>PAY_AMT3</th>\n",
       "      <td>30000.0</td>\n",
       "      <td>5225.681500</td>\n",
       "      <td>17606.961470</td>\n",
       "      <td>0.0</td>\n",
       "      <td>390.00</td>\n",
       "      <td>1800.0</td>\n",
       "      <td>4505.00</td>\n",
       "      <td>896040.0</td>\n",
       "    </tr>\n",
       "    <tr>\n",
       "      <th>PAY_AMT4</th>\n",
       "      <td>30000.0</td>\n",
       "      <td>4826.076867</td>\n",
       "      <td>15666.159744</td>\n",
       "      <td>0.0</td>\n",
       "      <td>296.00</td>\n",
       "      <td>1500.0</td>\n",
       "      <td>4013.25</td>\n",
       "      <td>621000.0</td>\n",
       "    </tr>\n",
       "    <tr>\n",
       "      <th>PAY_AMT5</th>\n",
       "      <td>30000.0</td>\n",
       "      <td>4799.387633</td>\n",
       "      <td>15278.305679</td>\n",
       "      <td>0.0</td>\n",
       "      <td>252.50</td>\n",
       "      <td>1500.0</td>\n",
       "      <td>4031.50</td>\n",
       "      <td>426529.0</td>\n",
       "    </tr>\n",
       "    <tr>\n",
       "      <th>PAY_AMT6</th>\n",
       "      <td>30000.0</td>\n",
       "      <td>5215.502567</td>\n",
       "      <td>17777.465775</td>\n",
       "      <td>0.0</td>\n",
       "      <td>117.75</td>\n",
       "      <td>1500.0</td>\n",
       "      <td>4000.00</td>\n",
       "      <td>528666.0</td>\n",
       "    </tr>\n",
       "    <tr>\n",
       "      <th>default payment next month</th>\n",
       "      <td>30000.0</td>\n",
       "      <td>0.221200</td>\n",
       "      <td>0.415062</td>\n",
       "      <td>0.0</td>\n",
       "      <td>0.00</td>\n",
       "      <td>0.0</td>\n",
       "      <td>0.00</td>\n",
       "      <td>1.0</td>\n",
       "    </tr>\n",
       "  </tbody>\n",
       "</table>\n",
       "</div>"
      ],
      "text/plain": [
       "                              count           mean            std       min  \\\n",
       "LIMIT_BAL                   30000.0  167484.322667  129747.661567   10000.0   \n",
       "SEX                         30000.0       1.603733       0.489129       1.0   \n",
       "EDUCATION                   30000.0       1.853133       0.790349       0.0   \n",
       "MARRIAGE                    30000.0       1.551867       0.521970       0.0   \n",
       "AGE                         30000.0      35.485500       9.217904      21.0   \n",
       "PAY_0                       30000.0      -0.016700       1.123802      -2.0   \n",
       "PAY_2                       30000.0      -0.133767       1.197186      -2.0   \n",
       "PAY_3                       30000.0      -0.166200       1.196868      -2.0   \n",
       "PAY_4                       30000.0      -0.220667       1.169139      -2.0   \n",
       "PAY_5                       30000.0      -0.266200       1.133187      -2.0   \n",
       "PAY_6                       30000.0      -0.291100       1.149988      -2.0   \n",
       "BILL_AMT1                   30000.0   51223.330900   73635.860576 -165580.0   \n",
       "BILL_AMT2                   30000.0   49179.075167   71173.768783  -69777.0   \n",
       "BILL_AMT3                   30000.0   47013.154800   69349.387427 -157264.0   \n",
       "BILL_AMT4                   30000.0   43262.948967   64332.856134 -170000.0   \n",
       "BILL_AMT5                   30000.0   40311.400967   60797.155770  -81334.0   \n",
       "BILL_AMT6                   30000.0   38871.760400   59554.107537 -339603.0   \n",
       "PAY_AMT1                    30000.0    5663.580500   16563.280354       0.0   \n",
       "PAY_AMT2                    30000.0    5921.163500   23040.870402       0.0   \n",
       "PAY_AMT3                    30000.0    5225.681500   17606.961470       0.0   \n",
       "PAY_AMT4                    30000.0    4826.076867   15666.159744       0.0   \n",
       "PAY_AMT5                    30000.0    4799.387633   15278.305679       0.0   \n",
       "PAY_AMT6                    30000.0    5215.502567   17777.465775       0.0   \n",
       "default payment next month  30000.0       0.221200       0.415062       0.0   \n",
       "\n",
       "                                 25%       50%        75%        max  \n",
       "LIMIT_BAL                   50000.00  140000.0  240000.00  1000000.0  \n",
       "SEX                             1.00       2.0       2.00        2.0  \n",
       "EDUCATION                       1.00       2.0       2.00        6.0  \n",
       "MARRIAGE                        1.00       2.0       2.00        3.0  \n",
       "AGE                            28.00      34.0      41.00       79.0  \n",
       "PAY_0                          -1.00       0.0       0.00        8.0  \n",
       "PAY_2                          -1.00       0.0       0.00        8.0  \n",
       "PAY_3                          -1.00       0.0       0.00        8.0  \n",
       "PAY_4                          -1.00       0.0       0.00        8.0  \n",
       "PAY_5                          -1.00       0.0       0.00        8.0  \n",
       "PAY_6                          -1.00       0.0       0.00        8.0  \n",
       "BILL_AMT1                    3558.75   22381.5   67091.00   964511.0  \n",
       "BILL_AMT2                    2984.75   21200.0   64006.25   983931.0  \n",
       "BILL_AMT3                    2666.25   20088.5   60164.75  1664089.0  \n",
       "BILL_AMT4                    2326.75   19052.0   54506.00   891586.0  \n",
       "BILL_AMT5                    1763.00   18104.5   50190.50   927171.0  \n",
       "BILL_AMT6                    1256.00   17071.0   49198.25   961664.0  \n",
       "PAY_AMT1                     1000.00    2100.0    5006.00   873552.0  \n",
       "PAY_AMT2                      833.00    2009.0    5000.00  1684259.0  \n",
       "PAY_AMT3                      390.00    1800.0    4505.00   896040.0  \n",
       "PAY_AMT4                      296.00    1500.0    4013.25   621000.0  \n",
       "PAY_AMT5                      252.50    1500.0    4031.50   426529.0  \n",
       "PAY_AMT6                      117.75    1500.0    4000.00   528666.0  \n",
       "default payment next month      0.00       0.0       0.00        1.0  "
      ]
     },
     "execution_count": 7,
     "metadata": {},
     "output_type": "execute_result"
    }
   ],
   "source": [
    "data_raw.describe().T"
   ]
  },
  {
   "cell_type": "markdown",
   "id": "d9949879-721a-4737-9035-92f228adb6e9",
   "metadata": {},
   "source": [
    "Depending on the model, the data should be scaled."
   ]
  },
  {
   "cell_type": "code",
   "execution_count": 10,
   "id": "7544530d-7e73-4d80-9b79-7bc13cb75ec1",
   "metadata": {
    "execution": {
     "iopub.execute_input": "2021-08-08T07:48:28.059699Z",
     "iopub.status.busy": "2021-08-08T07:48:28.059298Z",
     "iopub.status.idle": "2021-08-08T07:48:28.071041Z",
     "shell.execute_reply": "2021-08-08T07:48:28.068924Z",
     "shell.execute_reply.started": "2021-08-08T07:48:28.059657Z"
    },
    "tags": []
   },
   "outputs": [
    {
     "name": "stdout",
     "output_type": "stream",
     "text": [
      "Default payment next month?\n",
      "No: 23364\n",
      "Yes: 6636\n"
     ]
    }
   ],
   "source": [
    "target = data_raw['default payment next month'].value_counts()\n",
    "\n",
    "print(f\"Default payment next month?\\nNo: {target[0]}\\nYes: {target[1]}\")"
   ]
  },
  {
   "cell_type": "markdown",
   "id": "4fbeab8a-017c-473a-8908-5a212c5fef28",
   "metadata": {},
   "source": [
    "It's a unbalanced dataset."
   ]
  },
  {
   "cell_type": "markdown",
   "id": "2a7c539a-19f2-4821-8cce-b5db25aaf4d8",
   "metadata": {},
   "source": [
    "## 3. Load Train sets"
   ]
  },
  {
   "cell_type": "code",
   "execution_count": 11,
   "id": "8c1abaa1-1846-4a00-adce-50d34edd749a",
   "metadata": {
    "execution": {
     "iopub.execute_input": "2021-08-08T09:06:23.418473Z",
     "iopub.status.busy": "2021-08-08T09:06:23.417874Z",
     "iopub.status.idle": "2021-08-08T09:06:23.513913Z",
     "shell.execute_reply": "2021-08-08T09:06:23.512276Z",
     "shell.execute_reply.started": "2021-08-08T09:06:23.418409Z"
    }
   },
   "outputs": [],
   "source": [
    "X_train = pd.read_parquet('data/x_train.parquet')\n",
    "y_train = pd.read_parquet('data/y_train.parquet')"
   ]
  },
  {
   "cell_type": "code",
   "execution_count": 12,
   "id": "3dfc92c7-f34b-4fe9-94e4-d999e493bd0a",
   "metadata": {
    "execution": {
     "iopub.execute_input": "2021-08-08T09:06:29.954239Z",
     "iopub.status.busy": "2021-08-08T09:06:29.953868Z",
     "iopub.status.idle": "2021-08-08T09:06:29.982501Z",
     "shell.execute_reply": "2021-08-08T09:06:29.980746Z",
     "shell.execute_reply.started": "2021-08-08T09:06:29.954196Z"
    }
   },
   "outputs": [
    {
     "data": {
      "text/html": [
       "<div>\n",
       "<style scoped>\n",
       "    .dataframe tbody tr th:only-of-type {\n",
       "        vertical-align: middle;\n",
       "    }\n",
       "\n",
       "    .dataframe tbody tr th {\n",
       "        vertical-align: top;\n",
       "    }\n",
       "\n",
       "    .dataframe thead th {\n",
       "        text-align: right;\n",
       "    }\n",
       "</style>\n",
       "<table border=\"1\" class=\"dataframe\">\n",
       "  <thead>\n",
       "    <tr style=\"text-align: right;\">\n",
       "      <th></th>\n",
       "      <th>LIMIT_BAL</th>\n",
       "      <th>SEX</th>\n",
       "      <th>EDUCATION</th>\n",
       "      <th>MARRIAGE</th>\n",
       "      <th>AGE</th>\n",
       "      <th>PAY_0</th>\n",
       "      <th>PAY_2</th>\n",
       "      <th>PAY_3</th>\n",
       "      <th>PAY_4</th>\n",
       "      <th>PAY_5</th>\n",
       "      <th>...</th>\n",
       "      <th>BILL_AMT3</th>\n",
       "      <th>BILL_AMT4</th>\n",
       "      <th>BILL_AMT5</th>\n",
       "      <th>BILL_AMT6</th>\n",
       "      <th>PAY_AMT1</th>\n",
       "      <th>PAY_AMT2</th>\n",
       "      <th>PAY_AMT3</th>\n",
       "      <th>PAY_AMT4</th>\n",
       "      <th>PAY_AMT5</th>\n",
       "      <th>PAY_AMT6</th>\n",
       "    </tr>\n",
       "  </thead>\n",
       "  <tbody>\n",
       "    <tr>\n",
       "      <th>11018</th>\n",
       "      <td>160000</td>\n",
       "      <td>2</td>\n",
       "      <td>2</td>\n",
       "      <td>2</td>\n",
       "      <td>32</td>\n",
       "      <td>0</td>\n",
       "      <td>0</td>\n",
       "      <td>0</td>\n",
       "      <td>0</td>\n",
       "      <td>0</td>\n",
       "      <td>...</td>\n",
       "      <td>155404</td>\n",
       "      <td>153234</td>\n",
       "      <td>156731</td>\n",
       "      <td>155818</td>\n",
       "      <td>6000</td>\n",
       "      <td>6000</td>\n",
       "      <td>5600</td>\n",
       "      <td>6000</td>\n",
       "      <td>6000</td>\n",
       "      <td>5500</td>\n",
       "    </tr>\n",
       "    <tr>\n",
       "      <th>1710</th>\n",
       "      <td>100000</td>\n",
       "      <td>2</td>\n",
       "      <td>1</td>\n",
       "      <td>2</td>\n",
       "      <td>30</td>\n",
       "      <td>0</td>\n",
       "      <td>0</td>\n",
       "      <td>0</td>\n",
       "      <td>0</td>\n",
       "      <td>2</td>\n",
       "      <td>...</td>\n",
       "      <td>42283</td>\n",
       "      <td>51539</td>\n",
       "      <td>50583</td>\n",
       "      <td>52588</td>\n",
       "      <td>5000</td>\n",
       "      <td>10000</td>\n",
       "      <td>10000</td>\n",
       "      <td>0</td>\n",
       "      <td>2846</td>\n",
       "      <td>1936</td>\n",
       "    </tr>\n",
       "    <tr>\n",
       "      <th>4618</th>\n",
       "      <td>80000</td>\n",
       "      <td>1</td>\n",
       "      <td>1</td>\n",
       "      <td>2</td>\n",
       "      <td>29</td>\n",
       "      <td>0</td>\n",
       "      <td>0</td>\n",
       "      <td>0</td>\n",
       "      <td>0</td>\n",
       "      <td>0</td>\n",
       "      <td>...</td>\n",
       "      <td>64277</td>\n",
       "      <td>45455</td>\n",
       "      <td>42231</td>\n",
       "      <td>42804</td>\n",
       "      <td>3300</td>\n",
       "      <td>2500</td>\n",
       "      <td>1556</td>\n",
       "      <td>1600</td>\n",
       "      <td>1600</td>\n",
       "      <td>1600</td>\n",
       "    </tr>\n",
       "    <tr>\n",
       "      <th>5482</th>\n",
       "      <td>20000</td>\n",
       "      <td>2</td>\n",
       "      <td>2</td>\n",
       "      <td>1</td>\n",
       "      <td>27</td>\n",
       "      <td>0</td>\n",
       "      <td>0</td>\n",
       "      <td>-1</td>\n",
       "      <td>-1</td>\n",
       "      <td>-2</td>\n",
       "      <td>...</td>\n",
       "      <td>780</td>\n",
       "      <td>0</td>\n",
       "      <td>0</td>\n",
       "      <td>0</td>\n",
       "      <td>1006</td>\n",
       "      <td>780</td>\n",
       "      <td>0</td>\n",
       "      <td>0</td>\n",
       "      <td>0</td>\n",
       "      <td>0</td>\n",
       "    </tr>\n",
       "    <tr>\n",
       "      <th>26187</th>\n",
       "      <td>50000</td>\n",
       "      <td>2</td>\n",
       "      <td>1</td>\n",
       "      <td>2</td>\n",
       "      <td>30</td>\n",
       "      <td>-2</td>\n",
       "      <td>-2</td>\n",
       "      <td>-2</td>\n",
       "      <td>-2</td>\n",
       "      <td>-2</td>\n",
       "      <td>...</td>\n",
       "      <td>0</td>\n",
       "      <td>0</td>\n",
       "      <td>0</td>\n",
       "      <td>0</td>\n",
       "      <td>2070</td>\n",
       "      <td>0</td>\n",
       "      <td>0</td>\n",
       "      <td>0</td>\n",
       "      <td>0</td>\n",
       "      <td>0</td>\n",
       "    </tr>\n",
       "  </tbody>\n",
       "</table>\n",
       "<p>5 rows × 23 columns</p>\n",
       "</div>"
      ],
      "text/plain": [
       "       LIMIT_BAL  SEX  EDUCATION  MARRIAGE  AGE  PAY_0  PAY_2  PAY_3  PAY_4  \\\n",
       "11018     160000    2          2         2   32      0      0      0      0   \n",
       "1710      100000    2          1         2   30      0      0      0      0   \n",
       "4618       80000    1          1         2   29      0      0      0      0   \n",
       "5482       20000    2          2         1   27      0      0     -1     -1   \n",
       "26187      50000    2          1         2   30     -2     -2     -2     -2   \n",
       "\n",
       "       PAY_5  ...  BILL_AMT3  BILL_AMT4  BILL_AMT5  BILL_AMT6  PAY_AMT1  \\\n",
       "11018      0  ...     155404     153234     156731     155818      6000   \n",
       "1710       2  ...      42283      51539      50583      52588      5000   \n",
       "4618       0  ...      64277      45455      42231      42804      3300   \n",
       "5482      -2  ...        780          0          0          0      1006   \n",
       "26187     -2  ...          0          0          0          0      2070   \n",
       "\n",
       "       PAY_AMT2  PAY_AMT3  PAY_AMT4  PAY_AMT5  PAY_AMT6  \n",
       "11018      6000      5600      6000      6000      5500  \n",
       "1710      10000     10000         0      2846      1936  \n",
       "4618       2500      1556      1600      1600      1600  \n",
       "5482        780         0         0         0         0  \n",
       "26187         0         0         0         0         0  \n",
       "\n",
       "[5 rows x 23 columns]"
      ]
     },
     "execution_count": 12,
     "metadata": {},
     "output_type": "execute_result"
    }
   ],
   "source": [
    "X_train.head()"
   ]
  },
  {
   "cell_type": "code",
   "execution_count": 13,
   "id": "6ab734db-70de-4a60-9cb1-2391e0de1b70",
   "metadata": {
    "execution": {
     "iopub.execute_input": "2021-08-08T09:06:40.398911Z",
     "iopub.status.busy": "2021-08-08T09:06:40.398428Z",
     "iopub.status.idle": "2021-08-08T09:06:40.414522Z",
     "shell.execute_reply": "2021-08-08T09:06:40.412350Z",
     "shell.execute_reply.started": "2021-08-08T09:06:40.398861Z"
    }
   },
   "outputs": [
    {
     "data": {
      "text/html": [
       "<div>\n",
       "<style scoped>\n",
       "    .dataframe tbody tr th:only-of-type {\n",
       "        vertical-align: middle;\n",
       "    }\n",
       "\n",
       "    .dataframe tbody tr th {\n",
       "        vertical-align: top;\n",
       "    }\n",
       "\n",
       "    .dataframe thead th {\n",
       "        text-align: right;\n",
       "    }\n",
       "</style>\n",
       "<table border=\"1\" class=\"dataframe\">\n",
       "  <thead>\n",
       "    <tr style=\"text-align: right;\">\n",
       "      <th></th>\n",
       "      <th>default payment next month</th>\n",
       "    </tr>\n",
       "  </thead>\n",
       "  <tbody>\n",
       "    <tr>\n",
       "      <th>11018</th>\n",
       "      <td>0</td>\n",
       "    </tr>\n",
       "    <tr>\n",
       "      <th>1710</th>\n",
       "      <td>1</td>\n",
       "    </tr>\n",
       "    <tr>\n",
       "      <th>4618</th>\n",
       "      <td>0</td>\n",
       "    </tr>\n",
       "    <tr>\n",
       "      <th>5482</th>\n",
       "      <td>0</td>\n",
       "    </tr>\n",
       "    <tr>\n",
       "      <th>26187</th>\n",
       "      <td>0</td>\n",
       "    </tr>\n",
       "  </tbody>\n",
       "</table>\n",
       "</div>"
      ],
      "text/plain": [
       "       default payment next month\n",
       "11018                           0\n",
       "1710                            1\n",
       "4618                            0\n",
       "5482                            0\n",
       "26187                           0"
      ]
     },
     "execution_count": 13,
     "metadata": {},
     "output_type": "execute_result"
    }
   ],
   "source": [
    "y_train.head()"
   ]
  },
  {
   "cell_type": "code",
   "execution_count": 18,
   "id": "cac69896-4142-49d8-80ca-d379e41fe1ee",
   "metadata": {
    "execution": {
     "iopub.execute_input": "2021-08-08T09:17:58.334601Z",
     "iopub.status.busy": "2021-08-08T09:17:58.334125Z",
     "iopub.status.idle": "2021-08-08T09:17:58.359729Z",
     "shell.execute_reply": "2021-08-08T09:17:58.357649Z",
     "shell.execute_reply.started": "2021-08-08T09:17:58.334551Z"
    }
   },
   "outputs": [
    {
     "name": "stdout",
     "output_type": "stream",
     "text": [
      "<class 'pandas.core.frame.DataFrame'>\n",
      "Int64Index: 21000 entries, 11018 to 27126\n",
      "Data columns (total 23 columns):\n",
      " #   Column     Non-Null Count  Dtype\n",
      "---  ------     --------------  -----\n",
      " 0   LIMIT_BAL  21000 non-null  int64\n",
      " 1   SEX        21000 non-null  int64\n",
      " 2   EDUCATION  21000 non-null  int64\n",
      " 3   MARRIAGE   21000 non-null  int64\n",
      " 4   AGE        21000 non-null  int64\n",
      " 5   PAY_0      21000 non-null  int64\n",
      " 6   PAY_2      21000 non-null  int64\n",
      " 7   PAY_3      21000 non-null  int64\n",
      " 8   PAY_4      21000 non-null  int64\n",
      " 9   PAY_5      21000 non-null  int64\n",
      " 10  PAY_6      21000 non-null  int64\n",
      " 11  BILL_AMT1  21000 non-null  int64\n",
      " 12  BILL_AMT2  21000 non-null  int64\n",
      " 13  BILL_AMT3  21000 non-null  int64\n",
      " 14  BILL_AMT4  21000 non-null  int64\n",
      " 15  BILL_AMT5  21000 non-null  int64\n",
      " 16  BILL_AMT6  21000 non-null  int64\n",
      " 17  PAY_AMT1   21000 non-null  int64\n",
      " 18  PAY_AMT2   21000 non-null  int64\n",
      " 19  PAY_AMT3   21000 non-null  int64\n",
      " 20  PAY_AMT4   21000 non-null  int64\n",
      " 21  PAY_AMT5   21000 non-null  int64\n",
      " 22  PAY_AMT6   21000 non-null  int64\n",
      "dtypes: int64(23)\n",
      "memory usage: 4.3 MB\n"
     ]
    }
   ],
   "source": [
    "X_train.info()"
   ]
  },
  {
   "cell_type": "code",
   "execution_count": 19,
   "id": "7086ffbc-e3b7-4f05-87ac-448060e33000",
   "metadata": {
    "execution": {
     "iopub.execute_input": "2021-08-08T09:18:12.881053Z",
     "iopub.status.busy": "2021-08-08T09:18:12.880575Z",
     "iopub.status.idle": "2021-08-08T09:18:12.904679Z",
     "shell.execute_reply": "2021-08-08T09:18:12.903283Z",
     "shell.execute_reply.started": "2021-08-08T09:18:12.880964Z"
    }
   },
   "outputs": [
    {
     "name": "stdout",
     "output_type": "stream",
     "text": [
      "<class 'pandas.core.frame.DataFrame'>\n",
      "Int64Index: 21000 entries, 11018 to 27126\n",
      "Data columns (total 1 columns):\n",
      " #   Column                      Non-Null Count  Dtype\n",
      "---  ------                      --------------  -----\n",
      " 0   default payment next month  21000 non-null  int64\n",
      "dtypes: int64(1)\n",
      "memory usage: 844.2 KB\n"
     ]
    }
   ],
   "source": [
    "y_train.info()"
   ]
  },
  {
   "cell_type": "code",
   "execution_count": null,
   "id": "de03525b-5330-4a87-8822-37135eef83b2",
   "metadata": {},
   "outputs": [],
   "source": []
  },
  {
   "cell_type": "markdown",
   "id": "5191b943-d456-4467-9af4-d874b19259b5",
   "metadata": {},
   "source": [
    "## 4. Exploratory Data Analysis"
   ]
  },
  {
   "cell_type": "code",
   "execution_count": 14,
   "id": "b08da309-5290-4315-b83d-128b8791051c",
   "metadata": {
    "execution": {
     "iopub.execute_input": "2021-08-08T09:08:10.675069Z",
     "iopub.status.busy": "2021-08-08T09:08:10.674696Z",
     "iopub.status.idle": "2021-08-08T09:08:14.794180Z",
     "shell.execute_reply": "2021-08-08T09:08:14.793006Z",
     "shell.execute_reply.started": "2021-08-08T09:08:10.675027Z"
    }
   },
   "outputs": [
    {
     "data": {
      "text/plain": [
       "array([[<AxesSubplot:title={'center':'LIMIT_BAL'}>,\n",
       "        <AxesSubplot:title={'center':'SEX'}>,\n",
       "        <AxesSubplot:title={'center':'EDUCATION'}>,\n",
       "        <AxesSubplot:title={'center':'MARRIAGE'}>,\n",
       "        <AxesSubplot:title={'center':'AGE'}>],\n",
       "       [<AxesSubplot:title={'center':'PAY_0'}>,\n",
       "        <AxesSubplot:title={'center':'PAY_2'}>,\n",
       "        <AxesSubplot:title={'center':'PAY_3'}>,\n",
       "        <AxesSubplot:title={'center':'PAY_4'}>,\n",
       "        <AxesSubplot:title={'center':'PAY_5'}>],\n",
       "       [<AxesSubplot:title={'center':'PAY_6'}>,\n",
       "        <AxesSubplot:title={'center':'BILL_AMT1'}>,\n",
       "        <AxesSubplot:title={'center':'BILL_AMT2'}>,\n",
       "        <AxesSubplot:title={'center':'BILL_AMT3'}>,\n",
       "        <AxesSubplot:title={'center':'BILL_AMT4'}>],\n",
       "       [<AxesSubplot:title={'center':'BILL_AMT5'}>,\n",
       "        <AxesSubplot:title={'center':'BILL_AMT6'}>,\n",
       "        <AxesSubplot:title={'center':'PAY_AMT1'}>,\n",
       "        <AxesSubplot:title={'center':'PAY_AMT2'}>,\n",
       "        <AxesSubplot:title={'center':'PAY_AMT3'}>],\n",
       "       [<AxesSubplot:title={'center':'PAY_AMT4'}>,\n",
       "        <AxesSubplot:title={'center':'PAY_AMT5'}>,\n",
       "        <AxesSubplot:title={'center':'PAY_AMT6'}>, <AxesSubplot:>,\n",
       "        <AxesSubplot:>]], dtype=object)"
      ]
     },
     "execution_count": 14,
     "metadata": {},
     "output_type": "execute_result"
    },
    {
     "data": {
      "image/png": "[encoded data removed]",
      "text/plain": [
       "<Figure size 1080x720 with 25 Axes>"
      ]
     },
     "metadata": {},
     "output_type": "display_data"
    }
   ],
   "source": [
    "sns.set_style(style='white')\n",
    "X_train.hist(figsize=(15, 10), bins=20, grid=False)"
   ]
  },
  {
   "cell_type": "code",
   "execution_count": 16,
   "id": "c5cfb8d9-6f19-43a2-8286-4ff01ef36086",
   "metadata": {
    "execution": {
     "iopub.execute_input": "2021-08-08T09:12:59.247591Z",
     "iopub.status.busy": "2021-08-08T09:12:59.247094Z",
     "iopub.status.idle": "2021-08-08T09:12:59.269694Z",
     "shell.execute_reply": "2021-08-08T09:12:59.268921Z",
     "shell.execute_reply.started": "2021-08-08T09:12:59.247502Z"
    },
    "tags": []
   },
   "outputs": [
    {
     "data": {
      "text/plain": [
       "LIMIT_BAL     0.999384\n",
       "SEX          -0.423501\n",
       "EDUCATION     0.994205\n",
       "MARRIAGE     -0.027035\n",
       "AGE           0.733548\n",
       "PAY_0         0.728328\n",
       "PAY_2         0.803700\n",
       "PAY_3         0.808713\n",
       "PAY_4         0.905861\n",
       "PAY_5         0.906568\n",
       "PAY_6         0.864933\n",
       "BILL_AMT1     2.665551\n",
       "BILL_AMT2     2.733801\n",
       "BILL_AMT3     2.738895\n",
       "BILL_AMT4     2.831088\n",
       "BILL_AMT5     2.930481\n",
       "BILL_AMT6     2.898127\n",
       "PAY_AMT1     15.829797\n",
       "PAY_AMT2     21.766774\n",
       "PAY_AMT3     19.104434\n",
       "PAY_AMT4     12.485983\n",
       "PAY_AMT5     10.925696\n",
       "PAY_AMT6     10.054438\n",
       "dtype: float64"
      ]
     },
     "execution_count": 16,
     "metadata": {},
     "output_type": "execute_result"
    }
   ],
   "source": [
    "X_train.skew()"
   ]
  },
  {
   "cell_type": "code",
   "execution_count": 20,
   "id": "05b0c9ea-2553-4333-b544-dd2b0d9032e8",
   "metadata": {
    "execution": {
     "iopub.execute_input": "2021-08-08T09:18:33.139527Z",
     "iopub.status.busy": "2021-08-08T09:18:33.139124Z",
     "iopub.status.idle": "2021-08-08T09:18:33.150611Z",
     "shell.execute_reply": "2021-08-08T09:18:33.148452Z",
     "shell.execute_reply.started": "2021-08-08T09:18:33.139447Z"
    },
    "tags": []
   },
   "outputs": [],
   "source": [
    "train = X_train.merge(y_train, left_index=True, right_index=True)"
   ]
  },
  {
   "cell_type": "code",
   "execution_count": 25,
   "id": "7ed4a272-7dde-4ab9-8ad9-279a4e15ede8",
   "metadata": {
    "execution": {
     "iopub.execute_input": "2021-08-08T09:45:22.989024Z",
     "iopub.status.busy": "2021-08-08T09:45:22.988558Z",
     "iopub.status.idle": "2021-08-08T09:45:23.035400Z",
     "shell.execute_reply": "2021-08-08T09:45:23.034464Z",
     "shell.execute_reply.started": "2021-08-08T09:45:22.988960Z"
    },
    "tags": []
   },
   "outputs": [
    {
     "data": {
      "text/plain": [
       "LIMIT_BAL                    -0.159213\n",
       "SEX                          -0.042592\n",
       "EDUCATION                     0.024080\n",
       "MARRIAGE                     -0.018953\n",
       "AGE                           0.007442\n",
       "PAY_0                         0.327370\n",
       "PAY_2                         0.267821\n",
       "PAY_3                         0.240649\n",
       "PAY_4                         0.223032\n",
       "PAY_5                         0.208392\n",
       "PAY_6                         0.193506\n",
       "BILL_AMT1                    -0.024878\n",
       "BILL_AMT2                    -0.019810\n",
       "BILL_AMT3                    -0.019245\n",
       "BILL_AMT4                    -0.014071\n",
       "BILL_AMT5                    -0.009466\n",
       "BILL_AMT6                    -0.006929\n",
       "PAY_AMT1                     -0.070114\n",
       "PAY_AMT2                     -0.066631\n",
       "PAY_AMT3                     -0.052702\n",
       "PAY_AMT4                     -0.055853\n",
       "PAY_AMT5                     -0.052220\n",
       "PAY_AMT6                     -0.055074\n",
       "default payment next month    1.000000\n",
       "Name: default payment next month, dtype: float64"
      ]
     },
     "execution_count": 25,
     "metadata": {},
     "output_type": "execute_result"
    }
   ],
   "source": [
    "corr = train.corr()\n",
    "corr.iloc[:, -1]"
   ]
  },
  {
   "cell_type": "code",
   "execution_count": 29,
   "id": "e4048a4a-6576-4d75-9e02-7037f73ec526",
   "metadata": {
    "execution": {
     "iopub.execute_input": "2021-08-08T09:46:54.810516Z",
     "iopub.status.busy": "2021-08-08T09:46:54.810123Z",
     "iopub.status.idle": "2021-08-08T09:46:55.425057Z",
     "shell.execute_reply": "2021-08-08T09:46:55.423644Z",
     "shell.execute_reply.started": "2021-08-08T09:46:54.810472Z"
    },
    "tags": []
   },
   "outputs": [
    {
     "data": {
      "image/png": "[encoded data removed]",
      "text/plain": [
       "<Figure size 720x864 with 2 Axes>"
      ]
     },
     "metadata": {},
     "output_type": "display_data"
    }
   ],
   "source": [
    "# Generate a mask for the upper triangle\n",
    "mask = np.triu(np.ones_like(corr, dtype=bool))\n",
    "\n",
    "# Set up the matplotlib figure\n",
    "f, ax = plt.subplots(figsize=(10, 12))\n",
    "\n",
    "# Draw the heatmap with the mask and correct aspect ratio\n",
    "sns.heatmap(corr, mask=mask, cmap=plt.get_cmap('coolwarm'), center=0,\n",
    "            square=True, linewidths=.3, cbar_kws={\"shrink\": .6})\n",
    "plt.show()"
   ]
  },
  {
   "cell_type": "code",
   "execution_count": 34,
   "id": "3f90905f-92a8-4e8c-8e7a-5a727c72bfa3",
   "metadata": {
    "execution": {
     "iopub.execute_input": "2021-08-08T09:56:25.624204Z",
     "iopub.status.busy": "2021-08-08T09:56:25.623511Z",
     "iopub.status.idle": "2021-08-08T09:56:25.632447Z",
     "shell.execute_reply": "2021-08-08T09:56:25.630402Z",
     "shell.execute_reply.started": "2021-08-08T09:56:25.624161Z"
    },
    "tags": []
   },
   "outputs": [],
   "source": [
    "rndf_clf = RandomForestClassifier(random_state=42, n_jobs=-1)\n",
    "extt_clf = ExtraTreesClassifier(random_state=42, n_jobs=-1)"
   ]
  },
  {
   "cell_type": "code",
   "execution_count": 66,
   "id": "b3da8fe4-af41-4fb7-9f72-f83f39cfc3a0",
   "metadata": {
    "execution": {
     "iopub.execute_input": "2021-08-08T12:19:36.438221Z",
     "iopub.status.busy": "2021-08-08T12:19:36.437883Z",
     "iopub.status.idle": "2021-08-08T12:19:36.444401Z",
     "shell.execute_reply": "2021-08-08T12:19:36.443171Z",
     "shell.execute_reply.started": "2021-08-08T12:19:36.438181Z"
    },
    "tags": []
   },
   "outputs": [],
   "source": [
    "params = {\n",
    "    'n_estimators': [200, 300, 400, 500],\n",
    "    'max_features': ['auto', 'sqrt', 'log2', None],\n",
    "    'max_leaf_nodes': [10, 15, None]\n",
    "}"
   ]
  },
  {
   "cell_type": "code",
   "execution_count": 67,
   "id": "e38432ee-bf86-42b2-904e-a5d04588783d",
   "metadata": {
    "execution": {
     "iopub.execute_input": "2021-08-08T12:19:38.844297Z",
     "iopub.status.busy": "2021-08-08T12:19:38.843894Z",
     "iopub.status.idle": "2021-08-08T12:22:39.246800Z",
     "shell.execute_reply": "2021-08-08T12:22:39.246017Z",
     "shell.execute_reply.started": "2021-08-08T12:19:38.844231Z"
    },
    "tags": []
   },
   "outputs": [],
   "source": [
    "estimators = {}\n",
    "for estimator in [rndf_clf, extt_clf]:\n",
    "    estimators[estimator.__class__.__name__] = RandomizedSearchCV(estimator=estimator, param_distributions=params, \n",
    "                                                                 n_jobs=-1, n_iter=15, cv=5, return_train_score=True,\n",
    "                                                                random_state=42, scoring='f1').fit(X_train, np.ravel(y_train))\n",
    "    "
   ]
  },
  {
   "cell_type": "code",
   "execution_count": 52,
   "id": "673b0134-71d6-459c-ba1a-1bf0aaf9f3a0",
   "metadata": {
    "execution": {
     "iopub.execute_input": "2021-08-08T10:55:35.855069Z",
     "iopub.status.busy": "2021-08-08T10:55:35.854714Z",
     "iopub.status.idle": "2021-08-08T10:55:35.861797Z",
     "shell.execute_reply": "2021-08-08T10:55:35.860893Z",
     "shell.execute_reply.started": "2021-08-08T10:55:35.855029Z"
    },
    "tags": []
   },
   "outputs": [
    {
     "data": {
      "text/plain": [
       "dict_keys(['RandomForestClassifier', 'ExtraTreesClassifier'])"
      ]
     },
     "execution_count": 52,
     "metadata": {},
     "output_type": "execute_result"
    }
   ],
   "source": [
    "estimators.keys()"
   ]
  },
  {
   "cell_type": "code",
   "execution_count": 68,
   "id": "6a25233f-4706-4805-9abe-3ab1b8610e7e",
   "metadata": {
    "execution": {
     "iopub.execute_input": "2021-08-08T12:22:48.613679Z",
     "iopub.status.busy": "2021-08-08T12:22:48.613071Z",
     "iopub.status.idle": "2021-08-08T12:22:48.622064Z",
     "shell.execute_reply": "2021-08-08T12:22:48.620958Z",
     "shell.execute_reply.started": "2021-08-08T12:22:48.613580Z"
    },
    "tags": []
   },
   "outputs": [
    {
     "name": "stdout",
     "output_type": "stream",
     "text": [
      "RandomForestClassifier --- 0.4779273983209421\n",
      "ExtraTreesClassifier --- 0.4859092106917867\n"
     ]
    }
   ],
   "source": [
    "for estimator in estimators.keys():\n",
    "    print(f\"{estimator} --- {estimators[estimator].best_score_}\")"
   ]
  },
  {
   "cell_type": "code",
   "execution_count": 61,
   "id": "dbaa34ce-6318-4ce1-b07d-019c40d6b321",
   "metadata": {
    "execution": {
     "iopub.execute_input": "2021-08-08T11:06:07.832876Z",
     "iopub.status.busy": "2021-08-08T11:06:07.832427Z",
     "iopub.status.idle": "2021-08-08T11:06:07.848633Z",
     "shell.execute_reply": "2021-08-08T11:06:07.848057Z",
     "shell.execute_reply.started": "2021-08-08T11:06:07.832800Z"
    },
    "tags": []
   },
   "outputs": [
    {
     "data": {
      "text/plain": [
       "0.36225385065314875"
      ]
     },
     "execution_count": 61,
     "metadata": {},
     "output_type": "execute_result"
    }
   ],
   "source": [
    "f1_score(np.ravel(y_train), np.ones(21_000))"
   ]
  },
  {
   "cell_type": "code",
   "execution_count": 69,
   "id": "7047b1f5-3552-4172-8a11-f90fe2d3ca3f",
   "metadata": {
    "execution": {
     "iopub.execute_input": "2021-08-08T12:23:05.140165Z",
     "iopub.status.busy": "2021-08-08T12:23:05.139652Z",
     "iopub.status.idle": "2021-08-08T12:23:05.148390Z",
     "shell.execute_reply": "2021-08-08T12:23:05.147170Z",
     "shell.execute_reply.started": "2021-08-08T12:23:05.140065Z"
    },
    "tags": []
   },
   "outputs": [
    {
     "name": "stdout",
     "output_type": "stream",
     "text": [
      "RandomForestClassifier --- {'n_estimators': 300, 'max_leaf_nodes': None, 'max_features': 'log2'}\n",
      "ExtraTreesClassifier --- {'n_estimators': 200, 'max_leaf_nodes': 15, 'max_features': None}\n"
     ]
    }
   ],
   "source": [
    "for estimator in estimators.keys():\n",
    "    print(f\"{estimator} --- {estimators[estimator].best_params_}\")"
   ]
  }
 ],
 "metadata": {
  "kernelspec": {
   "display_name": "Python 3",
   "language": "python",
   "name": "python3"
  },
  "language_info": {
   "codemirror_mode": {
    "name": "ipython",
    "version": 3
   },
   "file_extension": ".py",
   "mimetype": "text/x-python",
   "name": "python",
   "nbconvert_exporter": "python",
   "pygments_lexer": "ipython3",
   "version": "3.9.4"
  }
 },
 "nbformat": 4,
 "nbformat_minor": 5
}
