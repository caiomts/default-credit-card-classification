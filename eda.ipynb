{
 "cells": [
  {
   "cell_type": "markdown",
   "id": "2e38ae96-4fad-40e7-b15a-5ad3033e4774",
   "metadata": {},
   "source": [
    "# Exploratory Data Analysis\n",
    "\n",
    "* Describing the data\n",
    "\n",
    "Attribute Information:\n",
    "\n",
    "This research employed a binary variable, default payment (Yes = 1, No = 0), as the response variable. This study reviewed the literature and used the following 23 variables as explanatory variables:\n",
    "X1: Amount of the given credit (NT dollar): it includes both the individual consumer credit and his/her family (supplementary) credit.\n",
    "X2: Gender (1 = male; 2 = female).\n",
    "X3: Education (1 = graduate school; 2 = university; 3 = high school; 4 = others).\n",
    "X4: Marital status (1 = married; 2 = single; 3 = others).\n",
    "X5: Age (year).\n",
    "X6 - X11: History of past payment. We tracked the past monthly payment records (from April to September, 2005) as follows: X6 = the repayment status in September, 2005; X7 = the repayment status in August, 2005; . . .;X11 = the repayment status in April, 2005. The measurement scale for the repayment status is: -1 = pay duly; 1 = payment delay for one month; 2 = payment delay for two months; . . .; 8 = payment delay for eight months; 9 = payment delay for nine months and above.\n",
    "X12-X17: Amount of bill statement (NT dollar). X12 = amount of bill statement in September, 2005; X13 = amount of bill statement in August, 2005; . . .; X17 = amount of bill statement in April, 2005.\n",
    "X18-X23: Amount of previous payment (NT dollar). X18 = amount paid in September, 2005; X19 = amount paid in August, 2005; . . .;X23 = amount paid in April, 2005. \n",
    "\n",
    "* Datailing the main objectives of the analysis\n",
    "* Variations of classifier models and specifies which one is the model that best suits the main objective(s) of this analysis\n",
    "* Key findings related to the main objective(s) of the analysis?\n",
    "* Highlight possible flaws in the model and a plan of action to revisit this analysis with additional data or different predictive modeling techniques\n",
    "\n",
    "## 0. Imports"
   ]
  },
  {
   "cell_type": "code",
   "execution_count": 74,
   "id": "210763ec-0932-4ae3-b3f7-e6defe81ff55",
   "metadata": {
    "execution": {
     "iopub.execute_input": "2021-08-09T08:50:17.393951Z",
     "iopub.status.busy": "2021-08-09T08:50:17.393379Z",
     "iopub.status.idle": "2021-08-09T08:50:17.403211Z",
     "shell.execute_reply": "2021-08-09T08:50:17.400662Z",
     "shell.execute_reply.started": "2021-08-09T08:50:17.393889Z"
    },
    "tags": []
   },
   "outputs": [],
   "source": [
    "import pandas as pd\n",
    "import numpy as np\n",
    "import os\n",
    "import matplotlib.pyplot as plt\n",
    "import seaborn as sns\n",
    "from sklearn.ensemble import ExtraTreesClassifier, RandomForestClassifier\n",
    "from sklearn.model_selection import RandomizedSearchCV, GridSearchCV\n",
    "from sklearn.metrics import f1_score"
   ]
  },
  {
   "cell_type": "markdown",
   "id": "5f71d5f5-f373-4181-a3e1-1e659e09314d",
   "metadata": {},
   "source": [
    "## 1. Load data"
   ]
  },
  {
   "cell_type": "code",
   "execution_count": 3,
   "id": "4dbff9a5-c163-4b0b-ba33-591a99985653",
   "metadata": {
    "execution": {
     "iopub.execute_input": "2021-08-08T07:32:52.941972Z",
     "iopub.status.busy": "2021-08-08T07:32:52.941405Z",
     "iopub.status.idle": "2021-08-08T07:32:53.034528Z",
     "shell.execute_reply": "2021-08-08T07:32:53.032940Z",
     "shell.execute_reply.started": "2021-08-08T07:32:52.941867Z"
    },
    "tags": []
   },
   "outputs": [],
   "source": [
    "data_path = os.path.join('data', 'default_credit_card_clients.csv')\n",
    "data_raw = pd.read_csv(data_path, skiprows=1)"
   ]
  },
  {
   "cell_type": "code",
   "execution_count": 4,
   "id": "29ead62e-9699-4498-8f74-d89623657a41",
   "metadata": {
    "execution": {
     "iopub.execute_input": "2021-08-08T07:33:02.735744Z",
     "iopub.status.busy": "2021-08-08T07:33:02.735221Z",
     "iopub.status.idle": "2021-08-08T07:33:02.802940Z",
     "shell.execute_reply": "2021-08-08T07:33:02.801220Z",
     "shell.execute_reply.started": "2021-08-08T07:33:02.735635Z"
    }
   },
   "outputs": [
    {
     "data": {
      "text/html": [
       "<div>\n",
       "<style scoped>\n",
       "    .dataframe tbody tr th:only-of-type {\n",
       "        vertical-align: middle;\n",
       "    }\n",
       "\n",
       "    .dataframe tbody tr th {\n",
       "        vertical-align: top;\n",
       "    }\n",
       "\n",
       "    .dataframe thead th {\n",
       "        text-align: right;\n",
       "    }\n",
       "</style>\n",
       "<table border=\"1\" class=\"dataframe\">\n",
       "  <thead>\n",
       "    <tr style=\"text-align: right;\">\n",
       "      <th></th>\n",
       "      <th>LIMIT_BAL</th>\n",
       "      <th>SEX</th>\n",
       "      <th>EDUCATION</th>\n",
       "      <th>MARRIAGE</th>\n",
       "      <th>AGE</th>\n",
       "      <th>PAY_0</th>\n",
       "      <th>PAY_2</th>\n",
       "      <th>PAY_3</th>\n",
       "      <th>PAY_4</th>\n",
       "      <th>PAY_5</th>\n",
       "      <th>...</th>\n",
       "      <th>BILL_AMT4</th>\n",
       "      <th>BILL_AMT5</th>\n",
       "      <th>BILL_AMT6</th>\n",
       "      <th>PAY_AMT1</th>\n",
       "      <th>PAY_AMT2</th>\n",
       "      <th>PAY_AMT3</th>\n",
       "      <th>PAY_AMT4</th>\n",
       "      <th>PAY_AMT5</th>\n",
       "      <th>PAY_AMT6</th>\n",
       "      <th>default payment next month</th>\n",
       "    </tr>\n",
       "  </thead>\n",
       "  <tbody>\n",
       "    <tr>\n",
       "      <th>0</th>\n",
       "      <td>20000</td>\n",
       "      <td>2</td>\n",
       "      <td>2</td>\n",
       "      <td>1</td>\n",
       "      <td>24</td>\n",
       "      <td>2</td>\n",
       "      <td>2</td>\n",
       "      <td>-1</td>\n",
       "      <td>-1</td>\n",
       "      <td>-2</td>\n",
       "      <td>...</td>\n",
       "      <td>0</td>\n",
       "      <td>0</td>\n",
       "      <td>0</td>\n",
       "      <td>0</td>\n",
       "      <td>689</td>\n",
       "      <td>0</td>\n",
       "      <td>0</td>\n",
       "      <td>0</td>\n",
       "      <td>0</td>\n",
       "      <td>1</td>\n",
       "    </tr>\n",
       "    <tr>\n",
       "      <th>1</th>\n",
       "      <td>120000</td>\n",
       "      <td>2</td>\n",
       "      <td>2</td>\n",
       "      <td>2</td>\n",
       "      <td>26</td>\n",
       "      <td>-1</td>\n",
       "      <td>2</td>\n",
       "      <td>0</td>\n",
       "      <td>0</td>\n",
       "      <td>0</td>\n",
       "      <td>...</td>\n",
       "      <td>3272</td>\n",
       "      <td>3455</td>\n",
       "      <td>3261</td>\n",
       "      <td>0</td>\n",
       "      <td>1000</td>\n",
       "      <td>1000</td>\n",
       "      <td>1000</td>\n",
       "      <td>0</td>\n",
       "      <td>2000</td>\n",
       "      <td>1</td>\n",
       "    </tr>\n",
       "    <tr>\n",
       "      <th>2</th>\n",
       "      <td>90000</td>\n",
       "      <td>2</td>\n",
       "      <td>2</td>\n",
       "      <td>2</td>\n",
       "      <td>34</td>\n",
       "      <td>0</td>\n",
       "      <td>0</td>\n",
       "      <td>0</td>\n",
       "      <td>0</td>\n",
       "      <td>0</td>\n",
       "      <td>...</td>\n",
       "      <td>14331</td>\n",
       "      <td>14948</td>\n",
       "      <td>15549</td>\n",
       "      <td>1518</td>\n",
       "      <td>1500</td>\n",
       "      <td>1000</td>\n",
       "      <td>1000</td>\n",
       "      <td>1000</td>\n",
       "      <td>5000</td>\n",
       "      <td>0</td>\n",
       "    </tr>\n",
       "    <tr>\n",
       "      <th>3</th>\n",
       "      <td>50000</td>\n",
       "      <td>2</td>\n",
       "      <td>2</td>\n",
       "      <td>1</td>\n",
       "      <td>37</td>\n",
       "      <td>0</td>\n",
       "      <td>0</td>\n",
       "      <td>0</td>\n",
       "      <td>0</td>\n",
       "      <td>0</td>\n",
       "      <td>...</td>\n",
       "      <td>28314</td>\n",
       "      <td>28959</td>\n",
       "      <td>29547</td>\n",
       "      <td>2000</td>\n",
       "      <td>2019</td>\n",
       "      <td>1200</td>\n",
       "      <td>1100</td>\n",
       "      <td>1069</td>\n",
       "      <td>1000</td>\n",
       "      <td>0</td>\n",
       "    </tr>\n",
       "    <tr>\n",
       "      <th>4</th>\n",
       "      <td>50000</td>\n",
       "      <td>1</td>\n",
       "      <td>2</td>\n",
       "      <td>1</td>\n",
       "      <td>57</td>\n",
       "      <td>-1</td>\n",
       "      <td>0</td>\n",
       "      <td>-1</td>\n",
       "      <td>0</td>\n",
       "      <td>0</td>\n",
       "      <td>...</td>\n",
       "      <td>20940</td>\n",
       "      <td>19146</td>\n",
       "      <td>19131</td>\n",
       "      <td>2000</td>\n",
       "      <td>36681</td>\n",
       "      <td>10000</td>\n",
       "      <td>9000</td>\n",
       "      <td>689</td>\n",
       "      <td>679</td>\n",
       "      <td>0</td>\n",
       "    </tr>\n",
       "  </tbody>\n",
       "</table>\n",
       "<p>5 rows × 24 columns</p>\n",
       "</div>"
      ],
      "text/plain": [
       "   LIMIT_BAL  SEX  EDUCATION  MARRIAGE  AGE  PAY_0  PAY_2  PAY_3  PAY_4  \\\n",
       "0      20000    2          2         1   24      2      2     -1     -1   \n",
       "1     120000    2          2         2   26     -1      2      0      0   \n",
       "2      90000    2          2         2   34      0      0      0      0   \n",
       "3      50000    2          2         1   37      0      0      0      0   \n",
       "4      50000    1          2         1   57     -1      0     -1      0   \n",
       "\n",
       "   PAY_5  ...  BILL_AMT4  BILL_AMT5  BILL_AMT6  PAY_AMT1  PAY_AMT2  PAY_AMT3  \\\n",
       "0     -2  ...          0          0          0         0       689         0   \n",
       "1      0  ...       3272       3455       3261         0      1000      1000   \n",
       "2      0  ...      14331      14948      15549      1518      1500      1000   \n",
       "3      0  ...      28314      28959      29547      2000      2019      1200   \n",
       "4      0  ...      20940      19146      19131      2000     36681     10000   \n",
       "\n",
       "   PAY_AMT4  PAY_AMT5  PAY_AMT6  default payment next month  \n",
       "0         0         0         0                           1  \n",
       "1      1000         0      2000                           1  \n",
       "2      1000      1000      5000                           0  \n",
       "3      1100      1069      1000                           0  \n",
       "4      9000       689       679                           0  \n",
       "\n",
       "[5 rows x 24 columns]"
      ]
     },
     "execution_count": 4,
     "metadata": {},
     "output_type": "execute_result"
    }
   ],
   "source": [
    "data_raw.head()"
   ]
  },
  {
   "cell_type": "code",
   "execution_count": 8,
   "id": "10f40dbb-7a59-4f1b-bd4b-5516268e2009",
   "metadata": {
    "execution": {
     "iopub.execute_input": "2021-08-08T07:43:40.349966Z",
     "iopub.status.busy": "2021-08-08T07:43:40.349510Z",
     "iopub.status.idle": "2021-08-08T07:43:40.371153Z",
     "shell.execute_reply": "2021-08-08T07:43:40.369746Z",
     "shell.execute_reply.started": "2021-08-08T07:43:40.349918Z"
    },
    "tags": []
   },
   "outputs": [
    {
     "name": "stdout",
     "output_type": "stream",
     "text": [
      "<class 'pandas.core.frame.DataFrame'>\n",
      "RangeIndex: 30000 entries, 0 to 29999\n",
      "Data columns (total 24 columns):\n",
      " #   Column                      Non-Null Count  Dtype\n",
      "---  ------                      --------------  -----\n",
      " 0   LIMIT_BAL                   30000 non-null  int64\n",
      " 1   SEX                         30000 non-null  int64\n",
      " 2   EDUCATION                   30000 non-null  int64\n",
      " 3   MARRIAGE                    30000 non-null  int64\n",
      " 4   AGE                         30000 non-null  int64\n",
      " 5   PAY_0                       30000 non-null  int64\n",
      " 6   PAY_2                       30000 non-null  int64\n",
      " 7   PAY_3                       30000 non-null  int64\n",
      " 8   PAY_4                       30000 non-null  int64\n",
      " 9   PAY_5                       30000 non-null  int64\n",
      " 10  PAY_6                       30000 non-null  int64\n",
      " 11  BILL_AMT1                   30000 non-null  int64\n",
      " 12  BILL_AMT2                   30000 non-null  int64\n",
      " 13  BILL_AMT3                   30000 non-null  int64\n",
      " 14  BILL_AMT4                   30000 non-null  int64\n",
      " 15  BILL_AMT5                   30000 non-null  int64\n",
      " 16  BILL_AMT6                   30000 non-null  int64\n",
      " 17  PAY_AMT1                    30000 non-null  int64\n",
      " 18  PAY_AMT2                    30000 non-null  int64\n",
      " 19  PAY_AMT3                    30000 non-null  int64\n",
      " 20  PAY_AMT4                    30000 non-null  int64\n",
      " 21  PAY_AMT5                    30000 non-null  int64\n",
      " 22  PAY_AMT6                    30000 non-null  int64\n",
      " 23  default payment next month  30000 non-null  int64\n",
      "dtypes: int64(24)\n",
      "memory usage: 5.5 MB\n"
     ]
    }
   ],
   "source": [
    "data_raw.info()"
   ]
  },
  {
   "cell_type": "markdown",
   "id": "68e82737-feb4-44d8-803e-b26c39b5185b",
   "metadata": {},
   "source": [
    "## 2. Previous Exploratory Analysis"
   ]
  },
  {
   "cell_type": "code",
   "execution_count": 7,
   "id": "9aff2c25-1fea-484b-96a8-d09397367b46",
   "metadata": {
    "execution": {
     "iopub.execute_input": "2021-08-08T07:37:09.198887Z",
     "iopub.status.busy": "2021-08-08T07:37:09.198514Z",
     "iopub.status.idle": "2021-08-08T07:37:09.326219Z",
     "shell.execute_reply": "2021-08-08T07:37:09.324437Z",
     "shell.execute_reply.started": "2021-08-08T07:37:09.198845Z"
    },
    "tags": []
   },
   "outputs": [
    {
     "data": {
      "text/html": [
       "<div>\n",
       "<style scoped>\n",
       "    .dataframe tbody tr th:only-of-type {\n",
       "        vertical-align: middle;\n",
       "    }\n",
       "\n",
       "    .dataframe tbody tr th {\n",
       "        vertical-align: top;\n",
       "    }\n",
       "\n",
       "    .dataframe thead th {\n",
       "        text-align: right;\n",
       "    }\n",
       "</style>\n",
       "<table border=\"1\" class=\"dataframe\">\n",
       "  <thead>\n",
       "    <tr style=\"text-align: right;\">\n",
       "      <th></th>\n",
       "      <th>count</th>\n",
       "      <th>mean</th>\n",
       "      <th>std</th>\n",
       "      <th>min</th>\n",
       "      <th>25%</th>\n",
       "      <th>50%</th>\n",
       "      <th>75%</th>\n",
       "      <th>max</th>\n",
       "    </tr>\n",
       "  </thead>\n",
       "  <tbody>\n",
       "    <tr>\n",
       "      <th>LIMIT_BAL</th>\n",
       "      <td>30000.0</td>\n",
       "      <td>167484.322667</td>\n",
       "      <td>129747.661567</td>\n",
       "      <td>10000.0</td>\n",
       "      <td>50000.00</td>\n",
       "      <td>140000.0</td>\n",
       "      <td>240000.00</td>\n",
       "      <td>1000000.0</td>\n",
       "    </tr>\n",
       "    <tr>\n",
       "      <th>SEX</th>\n",
       "      <td>30000.0</td>\n",
       "      <td>1.603733</td>\n",
       "      <td>0.489129</td>\n",
       "      <td>1.0</td>\n",
       "      <td>1.00</td>\n",
       "      <td>2.0</td>\n",
       "      <td>2.00</td>\n",
       "      <td>2.0</td>\n",
       "    </tr>\n",
       "    <tr>\n",
       "      <th>EDUCATION</th>\n",
       "      <td>30000.0</td>\n",
       "      <td>1.853133</td>\n",
       "      <td>0.790349</td>\n",
       "      <td>0.0</td>\n",
       "      <td>1.00</td>\n",
       "      <td>2.0</td>\n",
       "      <td>2.00</td>\n",
       "      <td>6.0</td>\n",
       "    </tr>\n",
       "    <tr>\n",
       "      <th>MARRIAGE</th>\n",
       "      <td>30000.0</td>\n",
       "      <td>1.551867</td>\n",
       "      <td>0.521970</td>\n",
       "      <td>0.0</td>\n",
       "      <td>1.00</td>\n",
       "      <td>2.0</td>\n",
       "      <td>2.00</td>\n",
       "      <td>3.0</td>\n",
       "    </tr>\n",
       "    <tr>\n",
       "      <th>AGE</th>\n",
       "      <td>30000.0</td>\n",
       "      <td>35.485500</td>\n",
       "      <td>9.217904</td>\n",
       "      <td>21.0</td>\n",
       "      <td>28.00</td>\n",
       "      <td>34.0</td>\n",
       "      <td>41.00</td>\n",
       "      <td>79.0</td>\n",
       "    </tr>\n",
       "    <tr>\n",
       "      <th>PAY_0</th>\n",
       "      <td>30000.0</td>\n",
       "      <td>-0.016700</td>\n",
       "      <td>1.123802</td>\n",
       "      <td>-2.0</td>\n",
       "      <td>-1.00</td>\n",
       "      <td>0.0</td>\n",
       "      <td>0.00</td>\n",
       "      <td>8.0</td>\n",
       "    </tr>\n",
       "    <tr>\n",
       "      <th>PAY_2</th>\n",
       "      <td>30000.0</td>\n",
       "      <td>-0.133767</td>\n",
       "      <td>1.197186</td>\n",
       "      <td>-2.0</td>\n",
       "      <td>-1.00</td>\n",
       "      <td>0.0</td>\n",
       "      <td>0.00</td>\n",
       "      <td>8.0</td>\n",
       "    </tr>\n",
       "    <tr>\n",
       "      <th>PAY_3</th>\n",
       "      <td>30000.0</td>\n",
       "      <td>-0.166200</td>\n",
       "      <td>1.196868</td>\n",
       "      <td>-2.0</td>\n",
       "      <td>-1.00</td>\n",
       "      <td>0.0</td>\n",
       "      <td>0.00</td>\n",
       "      <td>8.0</td>\n",
       "    </tr>\n",
       "    <tr>\n",
       "      <th>PAY_4</th>\n",
       "      <td>30000.0</td>\n",
       "      <td>-0.220667</td>\n",
       "      <td>1.169139</td>\n",
       "      <td>-2.0</td>\n",
       "      <td>-1.00</td>\n",
       "      <td>0.0</td>\n",
       "      <td>0.00</td>\n",
       "      <td>8.0</td>\n",
       "    </tr>\n",
       "    <tr>\n",
       "      <th>PAY_5</th>\n",
       "      <td>30000.0</td>\n",
       "      <td>-0.266200</td>\n",
       "      <td>1.133187</td>\n",
       "      <td>-2.0</td>\n",
       "      <td>-1.00</td>\n",
       "      <td>0.0</td>\n",
       "      <td>0.00</td>\n",
       "      <td>8.0</td>\n",
       "    </tr>\n",
       "    <tr>\n",
       "      <th>PAY_6</th>\n",
       "      <td>30000.0</td>\n",
       "      <td>-0.291100</td>\n",
       "      <td>1.149988</td>\n",
       "      <td>-2.0</td>\n",
       "      <td>-1.00</td>\n",
       "      <td>0.0</td>\n",
       "      <td>0.00</td>\n",
       "      <td>8.0</td>\n",
       "    </tr>\n",
       "    <tr>\n",
       "      <th>BILL_AMT1</th>\n",
       "      <td>30000.0</td>\n",
       "      <td>51223.330900</td>\n",
       "      <td>73635.860576</td>\n",
       "      <td>-165580.0</td>\n",
       "      <td>3558.75</td>\n",
       "      <td>22381.5</td>\n",
       "      <td>67091.00</td>\n",
       "      <td>964511.0</td>\n",
       "    </tr>\n",
       "    <tr>\n",
       "      <th>BILL_AMT2</th>\n",
       "      <td>30000.0</td>\n",
       "      <td>49179.075167</td>\n",
       "      <td>71173.768783</td>\n",
       "      <td>-69777.0</td>\n",
       "      <td>2984.75</td>\n",
       "      <td>21200.0</td>\n",
       "      <td>64006.25</td>\n",
       "      <td>983931.0</td>\n",
       "    </tr>\n",
       "    <tr>\n",
       "      <th>BILL_AMT3</th>\n",
       "      <td>30000.0</td>\n",
       "      <td>47013.154800</td>\n",
       "      <td>69349.387427</td>\n",
       "      <td>-157264.0</td>\n",
       "      <td>2666.25</td>\n",
       "      <td>20088.5</td>\n",
       "      <td>60164.75</td>\n",
       "      <td>1664089.0</td>\n",
       "    </tr>\n",
       "    <tr>\n",
       "      <th>BILL_AMT4</th>\n",
       "      <td>30000.0</td>\n",
       "      <td>43262.948967</td>\n",
       "      <td>64332.856134</td>\n",
       "      <td>-170000.0</td>\n",
       "      <td>2326.75</td>\n",
       "      <td>19052.0</td>\n",
       "      <td>54506.00</td>\n",
       "      <td>891586.0</td>\n",
       "    </tr>\n",
       "    <tr>\n",
       "      <th>BILL_AMT5</th>\n",
       "      <td>30000.0</td>\n",
       "      <td>40311.400967</td>\n",
       "      <td>60797.155770</td>\n",
       "      <td>-81334.0</td>\n",
       "      <td>1763.00</td>\n",
       "      <td>18104.5</td>\n",
       "      <td>50190.50</td>\n",
       "      <td>927171.0</td>\n",
       "    </tr>\n",
       "    <tr>\n",
       "      <th>BILL_AMT6</th>\n",
       "      <td>30000.0</td>\n",
       "      <td>38871.760400</td>\n",
       "      <td>59554.107537</td>\n",
       "      <td>-339603.0</td>\n",
       "      <td>1256.00</td>\n",
       "      <td>17071.0</td>\n",
       "      <td>49198.25</td>\n",
       "      <td>961664.0</td>\n",
       "    </tr>\n",
       "    <tr>\n",
       "      <th>PAY_AMT1</th>\n",
       "      <td>30000.0</td>\n",
       "      <td>5663.580500</td>\n",
       "      <td>16563.280354</td>\n",
       "      <td>0.0</td>\n",
       "      <td>1000.00</td>\n",
       "      <td>2100.0</td>\n",
       "      <td>5006.00</td>\n",
       "      <td>873552.0</td>\n",
       "    </tr>\n",
       "    <tr>\n",
       "      <th>PAY_AMT2</th>\n",
       "      <td>30000.0</td>\n",
       "      <td>5921.163500</td>\n",
       "      <td>23040.870402</td>\n",
       "      <td>0.0</td>\n",
       "      <td>833.00</td>\n",
       "      <td>2009.0</td>\n",
       "      <td>5000.00</td>\n",
       "      <td>1684259.0</td>\n",
       "    </tr>\n",
       "    <tr>\n",
       "      <th>PAY_AMT3</th>\n",
       "      <td>30000.0</td>\n",
       "      <td>5225.681500</td>\n",
       "      <td>17606.961470</td>\n",
       "      <td>0.0</td>\n",
       "      <td>390.00</td>\n",
       "      <td>1800.0</td>\n",
       "      <td>4505.00</td>\n",
       "      <td>896040.0</td>\n",
       "    </tr>\n",
       "    <tr>\n",
       "      <th>PAY_AMT4</th>\n",
       "      <td>30000.0</td>\n",
       "      <td>4826.076867</td>\n",
       "      <td>15666.159744</td>\n",
       "      <td>0.0</td>\n",
       "      <td>296.00</td>\n",
       "      <td>1500.0</td>\n",
       "      <td>4013.25</td>\n",
       "      <td>621000.0</td>\n",
       "    </tr>\n",
       "    <tr>\n",
       "      <th>PAY_AMT5</th>\n",
       "      <td>30000.0</td>\n",
       "      <td>4799.387633</td>\n",
       "      <td>15278.305679</td>\n",
       "      <td>0.0</td>\n",
       "      <td>252.50</td>\n",
       "      <td>1500.0</td>\n",
       "      <td>4031.50</td>\n",
       "      <td>426529.0</td>\n",
       "    </tr>\n",
       "    <tr>\n",
       "      <th>PAY_AMT6</th>\n",
       "      <td>30000.0</td>\n",
       "      <td>5215.502567</td>\n",
       "      <td>17777.465775</td>\n",
       "      <td>0.0</td>\n",
       "      <td>117.75</td>\n",
       "      <td>1500.0</td>\n",
       "      <td>4000.00</td>\n",
       "      <td>528666.0</td>\n",
       "    </tr>\n",
       "    <tr>\n",
       "      <th>default payment next month</th>\n",
       "      <td>30000.0</td>\n",
       "      <td>0.221200</td>\n",
       "      <td>0.415062</td>\n",
       "      <td>0.0</td>\n",
       "      <td>0.00</td>\n",
       "      <td>0.0</td>\n",
       "      <td>0.00</td>\n",
       "      <td>1.0</td>\n",
       "    </tr>\n",
       "  </tbody>\n",
       "</table>\n",
       "</div>"
      ],
      "text/plain": [
       "                              count           mean            std       min  \\\n",
       "LIMIT_BAL                   30000.0  167484.322667  129747.661567   10000.0   \n",
       "SEX                         30000.0       1.603733       0.489129       1.0   \n",
       "EDUCATION                   30000.0       1.853133       0.790349       0.0   \n",
       "MARRIAGE                    30000.0       1.551867       0.521970       0.0   \n",
       "AGE                         30000.0      35.485500       9.217904      21.0   \n",
       "PAY_0                       30000.0      -0.016700       1.123802      -2.0   \n",
       "PAY_2                       30000.0      -0.133767       1.197186      -2.0   \n",
       "PAY_3                       30000.0      -0.166200       1.196868      -2.0   \n",
       "PAY_4                       30000.0      -0.220667       1.169139      -2.0   \n",
       "PAY_5                       30000.0      -0.266200       1.133187      -2.0   \n",
       "PAY_6                       30000.0      -0.291100       1.149988      -2.0   \n",
       "BILL_AMT1                   30000.0   51223.330900   73635.860576 -165580.0   \n",
       "BILL_AMT2                   30000.0   49179.075167   71173.768783  -69777.0   \n",
       "BILL_AMT3                   30000.0   47013.154800   69349.387427 -157264.0   \n",
       "BILL_AMT4                   30000.0   43262.948967   64332.856134 -170000.0   \n",
       "BILL_AMT5                   30000.0   40311.400967   60797.155770  -81334.0   \n",
       "BILL_AMT6                   30000.0   38871.760400   59554.107537 -339603.0   \n",
       "PAY_AMT1                    30000.0    5663.580500   16563.280354       0.0   \n",
       "PAY_AMT2                    30000.0    5921.163500   23040.870402       0.0   \n",
       "PAY_AMT3                    30000.0    5225.681500   17606.961470       0.0   \n",
       "PAY_AMT4                    30000.0    4826.076867   15666.159744       0.0   \n",
       "PAY_AMT5                    30000.0    4799.387633   15278.305679       0.0   \n",
       "PAY_AMT6                    30000.0    5215.502567   17777.465775       0.0   \n",
       "default payment next month  30000.0       0.221200       0.415062       0.0   \n",
       "\n",
       "                                 25%       50%        75%        max  \n",
       "LIMIT_BAL                   50000.00  140000.0  240000.00  1000000.0  \n",
       "SEX                             1.00       2.0       2.00        2.0  \n",
       "EDUCATION                       1.00       2.0       2.00        6.0  \n",
       "MARRIAGE                        1.00       2.0       2.00        3.0  \n",
       "AGE                            28.00      34.0      41.00       79.0  \n",
       "PAY_0                          -1.00       0.0       0.00        8.0  \n",
       "PAY_2                          -1.00       0.0       0.00        8.0  \n",
       "PAY_3                          -1.00       0.0       0.00        8.0  \n",
       "PAY_4                          -1.00       0.0       0.00        8.0  \n",
       "PAY_5                          -1.00       0.0       0.00        8.0  \n",
       "PAY_6                          -1.00       0.0       0.00        8.0  \n",
       "BILL_AMT1                    3558.75   22381.5   67091.00   964511.0  \n",
       "BILL_AMT2                    2984.75   21200.0   64006.25   983931.0  \n",
       "BILL_AMT3                    2666.25   20088.5   60164.75  1664089.0  \n",
       "BILL_AMT4                    2326.75   19052.0   54506.00   891586.0  \n",
       "BILL_AMT5                    1763.00   18104.5   50190.50   927171.0  \n",
       "BILL_AMT6                    1256.00   17071.0   49198.25   961664.0  \n",
       "PAY_AMT1                     1000.00    2100.0    5006.00   873552.0  \n",
       "PAY_AMT2                      833.00    2009.0    5000.00  1684259.0  \n",
       "PAY_AMT3                      390.00    1800.0    4505.00   896040.0  \n",
       "PAY_AMT4                      296.00    1500.0    4013.25   621000.0  \n",
       "PAY_AMT5                      252.50    1500.0    4031.50   426529.0  \n",
       "PAY_AMT6                      117.75    1500.0    4000.00   528666.0  \n",
       "default payment next month      0.00       0.0       0.00        1.0  "
      ]
     },
     "execution_count": 7,
     "metadata": {},
     "output_type": "execute_result"
    }
   ],
   "source": [
    "data_raw.describe().T"
   ]
  },
  {
   "cell_type": "markdown",
   "id": "d9949879-721a-4737-9035-92f228adb6e9",
   "metadata": {},
   "source": [
    "Depending on the model, the data should be scaled."
   ]
  },
  {
   "cell_type": "code",
   "execution_count": 10,
   "id": "7544530d-7e73-4d80-9b79-7bc13cb75ec1",
   "metadata": {
    "execution": {
     "iopub.execute_input": "2021-08-08T07:48:28.059699Z",
     "iopub.status.busy": "2021-08-08T07:48:28.059298Z",
     "iopub.status.idle": "2021-08-08T07:48:28.071041Z",
     "shell.execute_reply": "2021-08-08T07:48:28.068924Z",
     "shell.execute_reply.started": "2021-08-08T07:48:28.059657Z"
    },
    "tags": []
   },
   "outputs": [
    {
     "name": "stdout",
     "output_type": "stream",
     "text": [
      "Default payment next month?\n",
      "No: 23364\n",
      "Yes: 6636\n"
     ]
    }
   ],
   "source": [
    "target = data_raw['default payment next month'].value_counts()\n",
    "\n",
    "print(f\"Default payment next month?\\nNo: {target[0]}\\nYes: {target[1]}\")"
   ]
  },
  {
   "cell_type": "markdown",
   "id": "4fbeab8a-017c-473a-8908-5a212c5fef28",
   "metadata": {},
   "source": [
    "It's a unbalanced dataset."
   ]
  },
  {
   "cell_type": "markdown",
   "id": "2a7c539a-19f2-4821-8cce-b5db25aaf4d8",
   "metadata": {},
   "source": [
    "## 3. Load Train sets"
   ]
  },
  {
   "cell_type": "code",
   "execution_count": 162,
   "id": "8c1abaa1-1846-4a00-adce-50d34edd749a",
   "metadata": {
    "execution": {
     "iopub.execute_input": "2021-08-10T09:25:03.513134Z",
     "iopub.status.busy": "2021-08-10T09:25:03.512834Z",
     "iopub.status.idle": "2021-08-10T09:25:03.530193Z",
     "shell.execute_reply": "2021-08-10T09:25:03.529495Z",
     "shell.execute_reply.started": "2021-08-10T09:25:03.513102Z"
    },
    "tags": []
   },
   "outputs": [],
   "source": [
    "X_train = pd.read_parquet('data/x_train.parquet')\n",
    "y_train = pd.read_parquet('data/y_train.parquet')"
   ]
  },
  {
   "cell_type": "code",
   "execution_count": 109,
   "id": "3dfc92c7-f34b-4fe9-94e4-d999e493bd0a",
   "metadata": {
    "execution": {
     "iopub.execute_input": "2021-08-10T07:14:01.344216Z",
     "iopub.status.busy": "2021-08-10T07:14:01.343760Z",
     "iopub.status.idle": "2021-08-10T07:14:01.365436Z",
     "shell.execute_reply": "2021-08-10T07:14:01.364298Z",
     "shell.execute_reply.started": "2021-08-10T07:14:01.344164Z"
    },
    "tags": []
   },
   "outputs": [
    {
     "data": {
      "text/html": [
       "<div>\n",
       "<style scoped>\n",
       "    .dataframe tbody tr th:only-of-type {\n",
       "        vertical-align: middle;\n",
       "    }\n",
       "\n",
       "    .dataframe tbody tr th {\n",
       "        vertical-align: top;\n",
       "    }\n",
       "\n",
       "    .dataframe thead th {\n",
       "        text-align: right;\n",
       "    }\n",
       "</style>\n",
       "<table border=\"1\" class=\"dataframe\">\n",
       "  <thead>\n",
       "    <tr style=\"text-align: right;\">\n",
       "      <th></th>\n",
       "      <th>LIMIT_BAL</th>\n",
       "      <th>SEX</th>\n",
       "      <th>EDUCATION</th>\n",
       "      <th>MARRIAGE</th>\n",
       "      <th>AGE</th>\n",
       "      <th>PAY_0</th>\n",
       "      <th>PAY_2</th>\n",
       "      <th>PAY_3</th>\n",
       "      <th>PAY_4</th>\n",
       "      <th>PAY_5</th>\n",
       "      <th>...</th>\n",
       "      <th>BILL_AMT3</th>\n",
       "      <th>BILL_AMT4</th>\n",
       "      <th>BILL_AMT5</th>\n",
       "      <th>BILL_AMT6</th>\n",
       "      <th>PAY_AMT1</th>\n",
       "      <th>PAY_AMT2</th>\n",
       "      <th>PAY_AMT3</th>\n",
       "      <th>PAY_AMT4</th>\n",
       "      <th>PAY_AMT5</th>\n",
       "      <th>PAY_AMT6</th>\n",
       "    </tr>\n",
       "  </thead>\n",
       "  <tbody>\n",
       "    <tr>\n",
       "      <th>11018</th>\n",
       "      <td>160000</td>\n",
       "      <td>2</td>\n",
       "      <td>2</td>\n",
       "      <td>2</td>\n",
       "      <td>32</td>\n",
       "      <td>0</td>\n",
       "      <td>0</td>\n",
       "      <td>0</td>\n",
       "      <td>0</td>\n",
       "      <td>0</td>\n",
       "      <td>...</td>\n",
       "      <td>155404</td>\n",
       "      <td>153234</td>\n",
       "      <td>156731</td>\n",
       "      <td>155818</td>\n",
       "      <td>6000</td>\n",
       "      <td>6000</td>\n",
       "      <td>5600</td>\n",
       "      <td>6000</td>\n",
       "      <td>6000</td>\n",
       "      <td>5500</td>\n",
       "    </tr>\n",
       "    <tr>\n",
       "      <th>1710</th>\n",
       "      <td>100000</td>\n",
       "      <td>2</td>\n",
       "      <td>1</td>\n",
       "      <td>2</td>\n",
       "      <td>30</td>\n",
       "      <td>0</td>\n",
       "      <td>0</td>\n",
       "      <td>0</td>\n",
       "      <td>0</td>\n",
       "      <td>2</td>\n",
       "      <td>...</td>\n",
       "      <td>42283</td>\n",
       "      <td>51539</td>\n",
       "      <td>50583</td>\n",
       "      <td>52588</td>\n",
       "      <td>5000</td>\n",
       "      <td>10000</td>\n",
       "      <td>10000</td>\n",
       "      <td>0</td>\n",
       "      <td>2846</td>\n",
       "      <td>1936</td>\n",
       "    </tr>\n",
       "    <tr>\n",
       "      <th>4618</th>\n",
       "      <td>80000</td>\n",
       "      <td>1</td>\n",
       "      <td>1</td>\n",
       "      <td>2</td>\n",
       "      <td>29</td>\n",
       "      <td>0</td>\n",
       "      <td>0</td>\n",
       "      <td>0</td>\n",
       "      <td>0</td>\n",
       "      <td>0</td>\n",
       "      <td>...</td>\n",
       "      <td>64277</td>\n",
       "      <td>45455</td>\n",
       "      <td>42231</td>\n",
       "      <td>42804</td>\n",
       "      <td>3300</td>\n",
       "      <td>2500</td>\n",
       "      <td>1556</td>\n",
       "      <td>1600</td>\n",
       "      <td>1600</td>\n",
       "      <td>1600</td>\n",
       "    </tr>\n",
       "    <tr>\n",
       "      <th>5482</th>\n",
       "      <td>20000</td>\n",
       "      <td>2</td>\n",
       "      <td>2</td>\n",
       "      <td>1</td>\n",
       "      <td>27</td>\n",
       "      <td>0</td>\n",
       "      <td>0</td>\n",
       "      <td>-1</td>\n",
       "      <td>-1</td>\n",
       "      <td>-2</td>\n",
       "      <td>...</td>\n",
       "      <td>780</td>\n",
       "      <td>0</td>\n",
       "      <td>0</td>\n",
       "      <td>0</td>\n",
       "      <td>1006</td>\n",
       "      <td>780</td>\n",
       "      <td>0</td>\n",
       "      <td>0</td>\n",
       "      <td>0</td>\n",
       "      <td>0</td>\n",
       "    </tr>\n",
       "    <tr>\n",
       "      <th>26187</th>\n",
       "      <td>50000</td>\n",
       "      <td>2</td>\n",
       "      <td>1</td>\n",
       "      <td>2</td>\n",
       "      <td>30</td>\n",
       "      <td>-2</td>\n",
       "      <td>-2</td>\n",
       "      <td>-2</td>\n",
       "      <td>-2</td>\n",
       "      <td>-2</td>\n",
       "      <td>...</td>\n",
       "      <td>0</td>\n",
       "      <td>0</td>\n",
       "      <td>0</td>\n",
       "      <td>0</td>\n",
       "      <td>2070</td>\n",
       "      <td>0</td>\n",
       "      <td>0</td>\n",
       "      <td>0</td>\n",
       "      <td>0</td>\n",
       "      <td>0</td>\n",
       "    </tr>\n",
       "  </tbody>\n",
       "</table>\n",
       "<p>5 rows × 23 columns</p>\n",
       "</div>"
      ],
      "text/plain": [
       "       LIMIT_BAL  SEX  EDUCATION  MARRIAGE  AGE  PAY_0  PAY_2  PAY_3  PAY_4  \\\n",
       "11018     160000    2          2         2   32      0      0      0      0   \n",
       "1710      100000    2          1         2   30      0      0      0      0   \n",
       "4618       80000    1          1         2   29      0      0      0      0   \n",
       "5482       20000    2          2         1   27      0      0     -1     -1   \n",
       "26187      50000    2          1         2   30     -2     -2     -2     -2   \n",
       "\n",
       "       PAY_5  ...  BILL_AMT3  BILL_AMT4  BILL_AMT5  BILL_AMT6  PAY_AMT1  \\\n",
       "11018      0  ...     155404     153234     156731     155818      6000   \n",
       "1710       2  ...      42283      51539      50583      52588      5000   \n",
       "4618       0  ...      64277      45455      42231      42804      3300   \n",
       "5482      -2  ...        780          0          0          0      1006   \n",
       "26187     -2  ...          0          0          0          0      2070   \n",
       "\n",
       "       PAY_AMT2  PAY_AMT3  PAY_AMT4  PAY_AMT5  PAY_AMT6  \n",
       "11018      6000      5600      6000      6000      5500  \n",
       "1710      10000     10000         0      2846      1936  \n",
       "4618       2500      1556      1600      1600      1600  \n",
       "5482        780         0         0         0         0  \n",
       "26187         0         0         0         0         0  \n",
       "\n",
       "[5 rows x 23 columns]"
      ]
     },
     "execution_count": 109,
     "metadata": {},
     "output_type": "execute_result"
    }
   ],
   "source": [
    "X_train.head()"
   ]
  },
  {
   "cell_type": "code",
   "execution_count": 110,
   "id": "6ab734db-70de-4a60-9cb1-2391e0de1b70",
   "metadata": {
    "execution": {
     "iopub.execute_input": "2021-08-10T07:14:02.792289Z",
     "iopub.status.busy": "2021-08-10T07:14:02.791977Z",
     "iopub.status.idle": "2021-08-10T07:14:02.802762Z",
     "shell.execute_reply": "2021-08-10T07:14:02.801761Z",
     "shell.execute_reply.started": "2021-08-10T07:14:02.792258Z"
    },
    "tags": []
   },
   "outputs": [
    {
     "data": {
      "text/html": [
       "<div>\n",
       "<style scoped>\n",
       "    .dataframe tbody tr th:only-of-type {\n",
       "        vertical-align: middle;\n",
       "    }\n",
       "\n",
       "    .dataframe tbody tr th {\n",
       "        vertical-align: top;\n",
       "    }\n",
       "\n",
       "    .dataframe thead th {\n",
       "        text-align: right;\n",
       "    }\n",
       "</style>\n",
       "<table border=\"1\" class=\"dataframe\">\n",
       "  <thead>\n",
       "    <tr style=\"text-align: right;\">\n",
       "      <th></th>\n",
       "      <th>default payment next month</th>\n",
       "    </tr>\n",
       "  </thead>\n",
       "  <tbody>\n",
       "    <tr>\n",
       "      <th>11018</th>\n",
       "      <td>0</td>\n",
       "    </tr>\n",
       "    <tr>\n",
       "      <th>1710</th>\n",
       "      <td>1</td>\n",
       "    </tr>\n",
       "    <tr>\n",
       "      <th>4618</th>\n",
       "      <td>0</td>\n",
       "    </tr>\n",
       "    <tr>\n",
       "      <th>5482</th>\n",
       "      <td>0</td>\n",
       "    </tr>\n",
       "    <tr>\n",
       "      <th>26187</th>\n",
       "      <td>0</td>\n",
       "    </tr>\n",
       "  </tbody>\n",
       "</table>\n",
       "</div>"
      ],
      "text/plain": [
       "       default payment next month\n",
       "11018                           0\n",
       "1710                            1\n",
       "4618                            0\n",
       "5482                            0\n",
       "26187                           0"
      ]
     },
     "execution_count": 110,
     "metadata": {},
     "output_type": "execute_result"
    }
   ],
   "source": [
    "y_train.head()"
   ]
  },
  {
   "cell_type": "code",
   "execution_count": 111,
   "id": "cac69896-4142-49d8-80ca-d379e41fe1ee",
   "metadata": {
    "execution": {
     "iopub.execute_input": "2021-08-10T07:14:04.983246Z",
     "iopub.status.busy": "2021-08-10T07:14:04.982886Z",
     "iopub.status.idle": "2021-08-10T07:14:05.000643Z",
     "shell.execute_reply": "2021-08-10T07:14:04.999853Z",
     "shell.execute_reply.started": "2021-08-10T07:14:04.983198Z"
    },
    "tags": []
   },
   "outputs": [
    {
     "name": "stdout",
     "output_type": "stream",
     "text": [
      "<class 'pandas.core.frame.DataFrame'>\n",
      "Int64Index: 21000 entries, 11018 to 27126\n",
      "Data columns (total 23 columns):\n",
      " #   Column     Non-Null Count  Dtype\n",
      "---  ------     --------------  -----\n",
      " 0   LIMIT_BAL  21000 non-null  int64\n",
      " 1   SEX        21000 non-null  int64\n",
      " 2   EDUCATION  21000 non-null  int64\n",
      " 3   MARRIAGE   21000 non-null  int64\n",
      " 4   AGE        21000 non-null  int64\n",
      " 5   PAY_0      21000 non-null  int64\n",
      " 6   PAY_2      21000 non-null  int64\n",
      " 7   PAY_3      21000 non-null  int64\n",
      " 8   PAY_4      21000 non-null  int64\n",
      " 9   PAY_5      21000 non-null  int64\n",
      " 10  PAY_6      21000 non-null  int64\n",
      " 11  BILL_AMT1  21000 non-null  int64\n",
      " 12  BILL_AMT2  21000 non-null  int64\n",
      " 13  BILL_AMT3  21000 non-null  int64\n",
      " 14  BILL_AMT4  21000 non-null  int64\n",
      " 15  BILL_AMT5  21000 non-null  int64\n",
      " 16  BILL_AMT6  21000 non-null  int64\n",
      " 17  PAY_AMT1   21000 non-null  int64\n",
      " 18  PAY_AMT2   21000 non-null  int64\n",
      " 19  PAY_AMT3   21000 non-null  int64\n",
      " 20  PAY_AMT4   21000 non-null  int64\n",
      " 21  PAY_AMT5   21000 non-null  int64\n",
      " 22  PAY_AMT6   21000 non-null  int64\n",
      "dtypes: int64(23)\n",
      "memory usage: 3.8 MB\n"
     ]
    }
   ],
   "source": [
    "X_train.info()"
   ]
  },
  {
   "cell_type": "code",
   "execution_count": 19,
   "id": "7086ffbc-e3b7-4f05-87ac-448060e33000",
   "metadata": {
    "execution": {
     "iopub.execute_input": "2021-08-08T09:18:12.881053Z",
     "iopub.status.busy": "2021-08-08T09:18:12.880575Z",
     "iopub.status.idle": "2021-08-08T09:18:12.904679Z",
     "shell.execute_reply": "2021-08-08T09:18:12.903283Z",
     "shell.execute_reply.started": "2021-08-08T09:18:12.880964Z"
    }
   },
   "outputs": [
    {
     "name": "stdout",
     "output_type": "stream",
     "text": [
      "<class 'pandas.core.frame.DataFrame'>\n",
      "Int64Index: 21000 entries, 11018 to 27126\n",
      "Data columns (total 1 columns):\n",
      " #   Column                      Non-Null Count  Dtype\n",
      "---  ------                      --------------  -----\n",
      " 0   default payment next month  21000 non-null  int64\n",
      "dtypes: int64(1)\n",
      "memory usage: 844.2 KB\n"
     ]
    }
   ],
   "source": [
    "y_train.info()"
   ]
  },
  {
   "cell_type": "markdown",
   "id": "5191b943-d456-4467-9af4-d874b19259b5",
   "metadata": {},
   "source": [
    "## 4. Exploratory Data Analysis"
   ]
  },
  {
   "cell_type": "code",
   "execution_count": 107,
   "id": "b08da309-5290-4315-b83d-128b8791051c",
   "metadata": {
    "execution": {
     "iopub.execute_input": "2021-08-10T07:12:51.679867Z",
     "iopub.status.busy": "2021-08-10T07:12:51.679479Z",
     "iopub.status.idle": "2021-08-10T07:12:54.391435Z",
     "shell.execute_reply": "2021-08-10T07:12:54.390122Z",
     "shell.execute_reply.started": "2021-08-10T07:12:51.679782Z"
    },
    "tags": []
   },
   "outputs": [
    {
     "data": {
      "image/png": "[encoded data removed]",
      "text/plain": [
       "<Figure size 1080x720 with 25 Axes>"
      ]
     },
     "metadata": {},
     "output_type": "display_data"
    }
   ],
   "source": [
    "sns.set_style(style='white')\n",
    "X_train.hist(figsize=(15, 10), bins=20, grid=False)\n",
    "plt.show()"
   ]
  },
  {
   "cell_type": "code",
   "execution_count": 16,
   "id": "c5cfb8d9-6f19-43a2-8286-4ff01ef36086",
   "metadata": {
    "execution": {
     "iopub.execute_input": "2021-08-08T09:12:59.247591Z",
     "iopub.status.busy": "2021-08-08T09:12:59.247094Z",
     "iopub.status.idle": "2021-08-08T09:12:59.269694Z",
     "shell.execute_reply": "2021-08-08T09:12:59.268921Z",
     "shell.execute_reply.started": "2021-08-08T09:12:59.247502Z"
    },
    "tags": []
   },
   "outputs": [
    {
     "data": {
      "text/plain": [
       "LIMIT_BAL     0.999384\n",
       "SEX          -0.423501\n",
       "EDUCATION     0.994205\n",
       "MARRIAGE     -0.027035\n",
       "AGE           0.733548\n",
       "PAY_0         0.728328\n",
       "PAY_2         0.803700\n",
       "PAY_3         0.808713\n",
       "PAY_4         0.905861\n",
       "PAY_5         0.906568\n",
       "PAY_6         0.864933\n",
       "BILL_AMT1     2.665551\n",
       "BILL_AMT2     2.733801\n",
       "BILL_AMT3     2.738895\n",
       "BILL_AMT4     2.831088\n",
       "BILL_AMT5     2.930481\n",
       "BILL_AMT6     2.898127\n",
       "PAY_AMT1     15.829797\n",
       "PAY_AMT2     21.766774\n",
       "PAY_AMT3     19.104434\n",
       "PAY_AMT4     12.485983\n",
       "PAY_AMT5     10.925696\n",
       "PAY_AMT6     10.054438\n",
       "dtype: float64"
      ]
     },
     "execution_count": 16,
     "metadata": {},
     "output_type": "execute_result"
    }
   ],
   "source": [
    "X_train.skew()"
   ]
  },
  {
   "cell_type": "code",
   "execution_count": 20,
   "id": "05b0c9ea-2553-4333-b544-dd2b0d9032e8",
   "metadata": {
    "execution": {
     "iopub.execute_input": "2021-08-08T09:18:33.139527Z",
     "iopub.status.busy": "2021-08-08T09:18:33.139124Z",
     "iopub.status.idle": "2021-08-08T09:18:33.150611Z",
     "shell.execute_reply": "2021-08-08T09:18:33.148452Z",
     "shell.execute_reply.started": "2021-08-08T09:18:33.139447Z"
    },
    "tags": []
   },
   "outputs": [],
   "source": [
    "train = X_train.merge(y_train, left_index=True, right_index=True)"
   ]
  },
  {
   "cell_type": "code",
   "execution_count": 25,
   "id": "7ed4a272-7dde-4ab9-8ad9-279a4e15ede8",
   "metadata": {
    "execution": {
     "iopub.execute_input": "2021-08-08T09:45:22.989024Z",
     "iopub.status.busy": "2021-08-08T09:45:22.988558Z",
     "iopub.status.idle": "2021-08-08T09:45:23.035400Z",
     "shell.execute_reply": "2021-08-08T09:45:23.034464Z",
     "shell.execute_reply.started": "2021-08-08T09:45:22.988960Z"
    },
    "tags": []
   },
   "outputs": [
    {
     "data": {
      "text/plain": [
       "LIMIT_BAL                    -0.159213\n",
       "SEX                          -0.042592\n",
       "EDUCATION                     0.024080\n",
       "MARRIAGE                     -0.018953\n",
       "AGE                           0.007442\n",
       "PAY_0                         0.327370\n",
       "PAY_2                         0.267821\n",
       "PAY_3                         0.240649\n",
       "PAY_4                         0.223032\n",
       "PAY_5                         0.208392\n",
       "PAY_6                         0.193506\n",
       "BILL_AMT1                    -0.024878\n",
       "BILL_AMT2                    -0.019810\n",
       "BILL_AMT3                    -0.019245\n",
       "BILL_AMT4                    -0.014071\n",
       "BILL_AMT5                    -0.009466\n",
       "BILL_AMT6                    -0.006929\n",
       "PAY_AMT1                     -0.070114\n",
       "PAY_AMT2                     -0.066631\n",
       "PAY_AMT3                     -0.052702\n",
       "PAY_AMT4                     -0.055853\n",
       "PAY_AMT5                     -0.052220\n",
       "PAY_AMT6                     -0.055074\n",
       "default payment next month    1.000000\n",
       "Name: default payment next month, dtype: float64"
      ]
     },
     "execution_count": 25,
     "metadata": {},
     "output_type": "execute_result"
    }
   ],
   "source": [
    "corr = train.corr()\n",
    "corr.iloc[:, -1]"
   ]
  },
  {
   "cell_type": "code",
   "execution_count": 116,
   "id": "e4048a4a-6576-4d75-9e02-7037f73ec526",
   "metadata": {
    "execution": {
     "iopub.execute_input": "2021-08-10T07:28:39.971479Z",
     "iopub.status.busy": "2021-08-10T07:28:39.971127Z",
     "iopub.status.idle": "2021-08-10T07:28:40.436078Z",
     "shell.execute_reply": "2021-08-10T07:28:40.435368Z",
     "shell.execute_reply.started": "2021-08-10T07:28:39.971438Z"
    },
    "tags": []
   },
   "outputs": [
    {
     "data": {
      "image/png": "[encoded data removed]",
      "text/plain": [
       "<Figure size 432x288 with 2 Axes>"
      ]
     },
     "metadata": {},
     "output_type": "display_data"
    }
   ],
   "source": [
    "# Generate a mask for the upper triangle\n",
    "mask = np.triu(np.ones_like(corr, dtype=bool))\n",
    "\n",
    "# Set up the matplotlib figure\n",
    "f, ax = plt.subplots()\n",
    "\n",
    "# Draw the heatmap with the mask and correct aspect ratio\n",
    "sns.heatmap(corr, mask=mask, cmap=plt.get_cmap('coolwarm'), center=0,\n",
    "            square=True, linewidths=.3, cbar_kws={\"shrink\": .6})\n",
    "\n",
    "plt.savefig('./report/heatmap.png', dpi=400)"
   ]
  },
  {
   "cell_type": "code",
   "execution_count": 117,
   "id": "08c30d53-ff93-455c-b794-66a0fe9dae11",
   "metadata": {
    "execution": {
     "iopub.execute_input": "2021-08-10T07:53:37.316874Z",
     "iopub.status.busy": "2021-08-10T07:53:37.316482Z",
     "iopub.status.idle": "2021-08-10T07:53:37.327578Z",
     "shell.execute_reply": "2021-08-10T07:53:37.326686Z",
     "shell.execute_reply.started": "2021-08-10T07:53:37.316833Z"
    },
    "tags": []
   },
   "outputs": [],
   "source": [
    "train['pay'] = X_train.iloc[:, 5:11].sum(axis=1)/6\n",
    "train['bill_amt'] = X_train.iloc[:, 11:17].sum(axis=1)/6"
   ]
  },
  {
   "cell_type": "code",
   "execution_count": 118,
   "id": "fb21e914-8833-4f08-a11c-7f87c6fa817c",
   "metadata": {
    "execution": {
     "iopub.execute_input": "2021-08-10T07:53:38.477489Z",
     "iopub.status.busy": "2021-08-10T07:53:38.477104Z",
     "iopub.status.idle": "2021-08-10T07:53:38.513762Z",
     "shell.execute_reply": "2021-08-10T07:53:38.513299Z",
     "shell.execute_reply.started": "2021-08-10T07:53:38.477447Z"
    },
    "tags": []
   },
   "outputs": [
    {
     "data": {
      "text/plain": [
       "LIMIT_BAL                    -0.159213\n",
       "SEX                          -0.042592\n",
       "EDUCATION                     0.024080\n",
       "MARRIAGE                     -0.018953\n",
       "AGE                           0.007442\n",
       "PAY_0                         0.327370\n",
       "PAY_2                         0.267821\n",
       "PAY_3                         0.240649\n",
       "PAY_4                         0.223032\n",
       "PAY_5                         0.208392\n",
       "PAY_6                         0.193506\n",
       "BILL_AMT1                    -0.024878\n",
       "BILL_AMT2                    -0.019810\n",
       "BILL_AMT3                    -0.019245\n",
       "BILL_AMT4                    -0.014071\n",
       "BILL_AMT5                    -0.009466\n",
       "BILL_AMT6                    -0.006929\n",
       "PAY_AMT1                     -0.070114\n",
       "PAY_AMT2                     -0.066631\n",
       "PAY_AMT3                     -0.052702\n",
       "PAY_AMT4                     -0.055853\n",
       "PAY_AMT5                     -0.052220\n",
       "PAY_AMT6                     -0.055074\n",
       "default payment next month    1.000000\n",
       "pay                           0.288008\n",
       "bill_amt                     -0.017003\n",
       "Name: default payment next month, dtype: float64"
      ]
     },
     "execution_count": 118,
     "metadata": {},
     "output_type": "execute_result"
    }
   ],
   "source": [
    "corr = train.corr()\n",
    "corr.iloc[:, -3]"
   ]
  },
  {
   "cell_type": "code",
   "execution_count": 171,
   "id": "3f90905f-92a8-4e8c-8e7a-5a727c72bfa3",
   "metadata": {
    "execution": {
     "iopub.execute_input": "2021-08-10T09:30:20.785477Z",
     "iopub.status.busy": "2021-08-10T09:30:20.785202Z",
     "iopub.status.idle": "2021-08-10T09:30:20.790950Z",
     "shell.execute_reply": "2021-08-10T09:30:20.789207Z",
     "shell.execute_reply.started": "2021-08-10T09:30:20.785447Z"
    },
    "tags": []
   },
   "outputs": [],
   "source": [
    "rndf_clf = RandomForestClassifier(random_state=42, n_jobs=-1)\n",
    "extt_clf = ExtraTreesClassifier(random_state=42, n_jobs=-1)"
   ]
  },
  {
   "cell_type": "code",
   "execution_count": 172,
   "id": "b3da8fe4-af41-4fb7-9f72-f83f39cfc3a0",
   "metadata": {
    "execution": {
     "iopub.execute_input": "2021-08-10T09:30:21.675193Z",
     "iopub.status.busy": "2021-08-10T09:30:21.674824Z",
     "iopub.status.idle": "2021-08-10T09:30:21.681413Z",
     "shell.execute_reply": "2021-08-10T09:30:21.680149Z",
     "shell.execute_reply.started": "2021-08-10T09:30:21.675153Z"
    },
    "tags": []
   },
   "outputs": [],
   "source": [
    "params = {\n",
    "    'n_estimators': [200, 300],\n",
    "    'max_features': ['log2', None],\n",
    "    'max_leaf_nodes': [15, None]\n",
    "}"
   ]
  },
  {
   "cell_type": "code",
   "execution_count": 176,
   "id": "e38432ee-bf86-42b2-904e-a5d04588783d",
   "metadata": {
    "execution": {
     "iopub.execute_input": "2021-08-10T09:30:42.577175Z",
     "iopub.status.busy": "2021-08-10T09:30:42.576780Z",
     "iopub.status.idle": "2021-08-10T09:33:42.323828Z",
     "shell.execute_reply": "2021-08-10T09:33:42.323032Z",
     "shell.execute_reply.started": "2021-08-10T09:30:42.577126Z"
    },
    "tags": []
   },
   "outputs": [],
   "source": [
    "estimators = {}\n",
    "for estimator in [rndf_clf, extt_clf]:\n",
    "    estimators[estimator.__class__.__name__] = GridSearchCV(estimator=estimator, param_grid=params, \n",
    "                                                                 n_jobs=-1, cv=5, return_train_score=True,\n",
    "                                                                 scoring='f1').fit(X_train, np.ravel(y_train))\n",
    "    "
   ]
  },
  {
   "cell_type": "code",
   "execution_count": 122,
   "id": "673b0134-71d6-459c-ba1a-1bf0aaf9f3a0",
   "metadata": {
    "execution": {
     "iopub.execute_input": "2021-08-10T07:57:04.599081Z",
     "iopub.status.busy": "2021-08-10T07:57:04.598794Z",
     "iopub.status.idle": "2021-08-10T07:57:04.606082Z",
     "shell.execute_reply": "2021-08-10T07:57:04.604768Z",
     "shell.execute_reply.started": "2021-08-10T07:57:04.599046Z"
    },
    "tags": []
   },
   "outputs": [
    {
     "data": {
      "text/plain": [
       "dict_keys(['RandomForestClassifier', 'ExtraTreesClassifier'])"
      ]
     },
     "execution_count": 122,
     "metadata": {},
     "output_type": "execute_result"
    }
   ],
   "source": [
    "estimators.keys()"
   ]
  },
  {
   "cell_type": "code",
   "execution_count": 177,
   "id": "6a25233f-4706-4805-9abe-3ab1b8610e7e",
   "metadata": {
    "execution": {
     "iopub.execute_input": "2021-08-10T09:34:18.865430Z",
     "iopub.status.busy": "2021-08-10T09:34:18.865168Z",
     "iopub.status.idle": "2021-08-10T09:34:18.871330Z",
     "shell.execute_reply": "2021-08-10T09:34:18.870439Z",
     "shell.execute_reply.started": "2021-08-10T09:34:18.865401Z"
    },
    "tags": []
   },
   "outputs": [
    {
     "name": "stdout",
     "output_type": "stream",
     "text": [
      "RandomForestClassifier --- 0.4807508024584779\n",
      "ExtraTreesClassifier --- 0.48507909150910233\n"
     ]
    }
   ],
   "source": [
    "for estimator in estimators.keys():\n",
    "    print(f\"{estimator} --- {estimators[estimator].best_score_}\")"
   ]
  },
  {
   "cell_type": "code",
   "execution_count": 178,
   "id": "dbaa34ce-6318-4ce1-b07d-019c40d6b321",
   "metadata": {
    "execution": {
     "iopub.execute_input": "2021-08-10T09:34:24.426120Z",
     "iopub.status.busy": "2021-08-10T09:34:24.425689Z",
     "iopub.status.idle": "2021-08-10T09:34:24.458591Z",
     "shell.execute_reply": "2021-08-10T09:34:24.457423Z",
     "shell.execute_reply.started": "2021-08-10T09:34:24.426055Z"
    },
    "tags": []
   },
   "outputs": [
    {
     "data": {
      "text/plain": [
       "0.36225385065314875"
      ]
     },
     "execution_count": 178,
     "metadata": {},
     "output_type": "execute_result"
    }
   ],
   "source": [
    "f1_score(np.ravel(y_train), np.ones(21_000))"
   ]
  },
  {
   "cell_type": "code",
   "execution_count": 180,
   "id": "acdbabc2-a785-4b76-b2ed-48973ab36b48",
   "metadata": {
    "execution": {
     "iopub.execute_input": "2021-08-10T09:36:46.543833Z",
     "iopub.status.busy": "2021-08-10T09:36:46.543322Z",
     "iopub.status.idle": "2021-08-10T09:37:11.837548Z",
     "shell.execute_reply": "2021-08-10T09:37:11.836901Z",
     "shell.execute_reply.started": "2021-08-10T09:36:46.543742Z"
    },
    "tags": []
   },
   "outputs": [
    {
     "name": "stdout",
     "output_type": "stream",
     "text": [
      "RandomForestClassifier\n",
      "[[15390   965]\n",
      " [ 2896  1749]]\n",
      "ExtraTreesClassifier\n",
      "[[15514   841]\n",
      " [ 2873  1772]]\n"
     ]
    }
   ],
   "source": [
    "for estimator in estimators.keys():\n",
    "    y_train_pred = cross_val_predict(estimators[estimator].best_estimator_, X_train_scaled, np.ravel(y_train), cv=3)\n",
    "    print(f'{estimator}')\n",
    "    print(confusion_matrix(np.ravel(y_train), y_train_pred))"
   ]
  },
  {
   "cell_type": "code",
   "execution_count": 181,
   "id": "7047b1f5-3552-4172-8a11-f90fe2d3ca3f",
   "metadata": {
    "execution": {
     "iopub.execute_input": "2021-08-10T09:37:11.838687Z",
     "iopub.status.busy": "2021-08-10T09:37:11.838542Z",
     "iopub.status.idle": "2021-08-10T09:37:11.843510Z",
     "shell.execute_reply": "2021-08-10T09:37:11.842309Z",
     "shell.execute_reply.started": "2021-08-10T09:37:11.838670Z"
    },
    "tags": []
   },
   "outputs": [
    {
     "name": "stdout",
     "output_type": "stream",
     "text": [
      "RandomForestClassifier --- {'max_features': None, 'max_leaf_nodes': None, 'n_estimators': 300}\n",
      "ExtraTreesClassifier --- {'max_features': None, 'max_leaf_nodes': 15, 'n_estimators': 300}\n"
     ]
    }
   ],
   "source": [
    "for estimator in estimators.keys():\n",
    "    print(f\"{estimator} --- {estimators[estimator].best_params_}\")"
   ]
  },
  {
   "cell_type": "code",
   "execution_count": 128,
   "id": "c96b2183-87f4-4fad-8f24-722b3870bef7",
   "metadata": {
    "execution": {
     "iopub.execute_input": "2021-08-10T07:58:51.693263Z",
     "iopub.status.busy": "2021-08-10T07:58:51.692873Z",
     "iopub.status.idle": "2021-08-10T07:58:51.735682Z",
     "shell.execute_reply": "2021-08-10T07:58:51.734950Z",
     "shell.execute_reply.started": "2021-08-10T07:58:51.693222Z"
    },
    "tags": []
   },
   "outputs": [
    {
     "data": {
      "text/plain": [
       "[('LIMIT_BAL', 0.019436153159714264),\n",
       " ('SEX', 3.9948488415302855e-05),\n",
       " ('EDUCATION', 0.000729921446251197),\n",
       " ('MARRIAGE', 3.861868546517404e-05),\n",
       " ('AGE', 0.0010282575485548021),\n",
       " ('PAY_0', 0.47121618704587515),\n",
       " ('PAY_2', 0.20706464780088363),\n",
       " ('PAY_3', 0.11833447477295722),\n",
       " ('PAY_4', 0.06367822669861258),\n",
       " ('PAY_5', 0.06167371606413921),\n",
       " ('PAY_6', 0.044296033889095164),\n",
       " ('BILL_AMT1', 0.0018335921799267924),\n",
       " ('BILL_AMT2', 0.0005315239028176776),\n",
       " ('BILL_AMT3', 0.001166818684667548),\n",
       " ('BILL_AMT4', 0.0010986238854777735),\n",
       " ('BILL_AMT5', 0.0013808506306511703),\n",
       " ('BILL_AMT6', 0.0009005135999347864),\n",
       " ('PAY_AMT1', 0.0012984936720478227),\n",
       " ('PAY_AMT2', 0.0005536961355130343),\n",
       " ('PAY_AMT3', 0.0015026753695889965),\n",
       " ('PAY_AMT4', 0.0007708487480346874),\n",
       " ('PAY_AMT5', 0.0007593274375392956),\n",
       " ('PAY_AMT6', 0.0006668501538367053)]"
      ]
     },
     "execution_count": 128,
     "metadata": {},
     "output_type": "execute_result"
    }
   ],
   "source": [
    "list(zip(X_train.columns, estimators['ExtraTreesClassifier'].best_estimator_.feature_importances_))"
   ]
  },
  {
   "cell_type": "code",
   "execution_count": 129,
   "id": "3969a39f-d0de-441d-bcc0-539cf62c5ee0",
   "metadata": {
    "execution": {
     "iopub.execute_input": "2021-08-10T07:59:06.276484Z",
     "iopub.status.busy": "2021-08-10T07:59:06.276025Z",
     "iopub.status.idle": "2021-08-10T07:59:06.359609Z",
     "shell.execute_reply": "2021-08-10T07:59:06.358890Z",
     "shell.execute_reply.started": "2021-08-10T07:59:06.276417Z"
    },
    "tags": []
   },
   "outputs": [
    {
     "data": {
      "text/plain": [
       "[('LIMIT_BAL', 0.06004271616866443),\n",
       " ('SEX', 0.011875802705393526),\n",
       " ('EDUCATION', 0.019912167443894305),\n",
       " ('MARRIAGE', 0.013636645777314509),\n",
       " ('AGE', 0.06608672862100334),\n",
       " ('PAY_0', 0.09848578345447712),\n",
       " ('PAY_2', 0.04157438262329414),\n",
       " ('PAY_3', 0.02657353216276674),\n",
       " ('PAY_4', 0.023894403172981978),\n",
       " ('PAY_5', 0.02278330450582164),\n",
       " ('PAY_6', 0.022949106200871712),\n",
       " ('BILL_AMT1', 0.05952642251107663),\n",
       " ('BILL_AMT2', 0.05388227934919704),\n",
       " ('BILL_AMT3', 0.051233530213919985),\n",
       " ('BILL_AMT4', 0.05011281624641546),\n",
       " ('BILL_AMT5', 0.049465486263376914),\n",
       " ('BILL_AMT6', 0.05073825521332384),\n",
       " ('PAY_AMT1', 0.05047009675061275),\n",
       " ('PAY_AMT2', 0.04790282592759201),\n",
       " ('PAY_AMT3', 0.04625969202605325),\n",
       " ('PAY_AMT4', 0.043381886405523415),\n",
       " ('PAY_AMT5', 0.04362203372806734),\n",
       " ('PAY_AMT6', 0.04559010252835784)]"
      ]
     },
     "execution_count": 129,
     "metadata": {},
     "output_type": "execute_result"
    }
   ],
   "source": [
    "list(zip(X_train.columns, estimators['RandomForestClassifier'].best_estimator_.feature_importances_))"
   ]
  },
  {
   "cell_type": "code",
   "execution_count": 163,
   "id": "1e3cc9f5-5823-48b8-8de3-67d991058ab3",
   "metadata": {
    "execution": {
     "iopub.execute_input": "2021-08-10T09:25:13.222691Z",
     "iopub.status.busy": "2021-08-10T09:25:13.222328Z",
     "iopub.status.idle": "2021-08-10T09:25:13.231140Z",
     "shell.execute_reply": "2021-08-10T09:25:13.229626Z",
     "shell.execute_reply.started": "2021-08-10T09:25:13.222630Z"
    },
    "tags": []
   },
   "outputs": [],
   "source": [
    "X_train['log_limit_bal'] = np.log1p(X_train['LIMIT_BAL'])"
   ]
  },
  {
   "cell_type": "code",
   "execution_count": 164,
   "id": "31106fcd-dd90-45a9-8dfd-c75ec6c8c953",
   "metadata": {
    "execution": {
     "iopub.execute_input": "2021-08-10T09:25:14.533230Z",
     "iopub.status.busy": "2021-08-10T09:25:14.532867Z",
     "iopub.status.idle": "2021-08-10T09:25:14.541353Z",
     "shell.execute_reply": "2021-08-10T09:25:14.540051Z",
     "shell.execute_reply.started": "2021-08-10T09:25:14.533169Z"
    },
    "tags": []
   },
   "outputs": [],
   "source": [
    "X_train.drop(labels=['LIMIT_BAL'], axis=1, inplace=True)"
   ]
  },
  {
   "cell_type": "code",
   "execution_count": 137,
   "id": "6db3f445-fe17-400a-b5c6-a03059a44ee8",
   "metadata": {
    "execution": {
     "iopub.execute_input": "2021-08-10T08:49:44.516891Z",
     "iopub.status.busy": "2021-08-10T08:49:44.516492Z",
     "iopub.status.idle": "2021-08-10T08:49:44.549673Z",
     "shell.execute_reply": "2021-08-10T08:49:44.548749Z",
     "shell.execute_reply.started": "2021-08-10T08:49:44.516830Z"
    },
    "tags": []
   },
   "outputs": [
    {
     "data": {
      "text/html": [
       "<div>\n",
       "<style scoped>\n",
       "    .dataframe tbody tr th:only-of-type {\n",
       "        vertical-align: middle;\n",
       "    }\n",
       "\n",
       "    .dataframe tbody tr th {\n",
       "        vertical-align: top;\n",
       "    }\n",
       "\n",
       "    .dataframe thead th {\n",
       "        text-align: right;\n",
       "    }\n",
       "</style>\n",
       "<table border=\"1\" class=\"dataframe\">\n",
       "  <thead>\n",
       "    <tr style=\"text-align: right;\">\n",
       "      <th></th>\n",
       "      <th>SEX</th>\n",
       "      <th>EDUCATION</th>\n",
       "      <th>MARRIAGE</th>\n",
       "      <th>AGE</th>\n",
       "      <th>PAY_0</th>\n",
       "      <th>BILL_AMT1</th>\n",
       "      <th>PAY_AMT1</th>\n",
       "      <th>PAY_AMT2</th>\n",
       "      <th>PAY_AMT3</th>\n",
       "      <th>PAY_AMT4</th>\n",
       "      <th>PAY_AMT5</th>\n",
       "      <th>PAY_AMT6</th>\n",
       "      <th>log_limit_bal</th>\n",
       "      <th>default payment next month</th>\n",
       "    </tr>\n",
       "  </thead>\n",
       "  <tbody>\n",
       "    <tr>\n",
       "      <th>SEX</th>\n",
       "      <td>1.000000</td>\n",
       "      <td>0.007141</td>\n",
       "      <td>-0.031797</td>\n",
       "      <td>-0.092993</td>\n",
       "      <td>-0.063384</td>\n",
       "      <td>-0.029792</td>\n",
       "      <td>-0.000741</td>\n",
       "      <td>-0.006204</td>\n",
       "      <td>-0.001941</td>\n",
       "      <td>-0.000358</td>\n",
       "      <td>0.003239</td>\n",
       "      <td>-0.003829</td>\n",
       "      <td>0.076398</td>\n",
       "      <td>-0.042592</td>\n",
       "    </tr>\n",
       "    <tr>\n",
       "      <th>EDUCATION</th>\n",
       "      <td>0.007141</td>\n",
       "      <td>1.000000</td>\n",
       "      <td>-0.142210</td>\n",
       "      <td>0.168914</td>\n",
       "      <td>0.109288</td>\n",
       "      <td>0.029202</td>\n",
       "      <td>-0.032029</td>\n",
       "      <td>-0.026379</td>\n",
       "      <td>-0.038094</td>\n",
       "      <td>-0.044509</td>\n",
       "      <td>-0.036421</td>\n",
       "      <td>-0.033139</td>\n",
       "      <td>-0.218835</td>\n",
       "      <td>0.024080</td>\n",
       "    </tr>\n",
       "    <tr>\n",
       "      <th>MARRIAGE</th>\n",
       "      <td>-0.031797</td>\n",
       "      <td>-0.142210</td>\n",
       "      <td>1.000000</td>\n",
       "      <td>-0.412734</td>\n",
       "      <td>0.021073</td>\n",
       "      <td>-0.023473</td>\n",
       "      <td>-0.009752</td>\n",
       "      <td>-0.009655</td>\n",
       "      <td>0.000083</td>\n",
       "      <td>-0.010333</td>\n",
       "      <td>-0.004612</td>\n",
       "      <td>-0.008814</td>\n",
       "      <td>-0.124224</td>\n",
       "      <td>-0.018953</td>\n",
       "    </tr>\n",
       "    <tr>\n",
       "      <th>AGE</th>\n",
       "      <td>-0.092993</td>\n",
       "      <td>0.168914</td>\n",
       "      <td>-0.412734</td>\n",
       "      <td>1.000000</td>\n",
       "      <td>-0.038690</td>\n",
       "      <td>0.056000</td>\n",
       "      <td>0.032147</td>\n",
       "      <td>0.028545</td>\n",
       "      <td>0.026337</td>\n",
       "      <td>0.026664</td>\n",
       "      <td>0.030101</td>\n",
       "      <td>0.024031</td>\n",
       "      <td>0.142317</td>\n",
       "      <td>0.007442</td>\n",
       "    </tr>\n",
       "    <tr>\n",
       "      <th>PAY_0</th>\n",
       "      <td>-0.063384</td>\n",
       "      <td>0.109288</td>\n",
       "      <td>0.021073</td>\n",
       "      <td>-0.038690</td>\n",
       "      <td>1.000000</td>\n",
       "      <td>0.184698</td>\n",
       "      <td>-0.078706</td>\n",
       "      <td>-0.073429</td>\n",
       "      <td>-0.068080</td>\n",
       "      <td>-0.067495</td>\n",
       "      <td>-0.060391</td>\n",
       "      <td>-0.060274</td>\n",
       "      <td>-0.284843</td>\n",
       "      <td>0.327370</td>\n",
       "    </tr>\n",
       "    <tr>\n",
       "      <th>BILL_AMT1</th>\n",
       "      <td>-0.029792</td>\n",
       "      <td>0.029202</td>\n",
       "      <td>-0.023473</td>\n",
       "      <td>0.056000</td>\n",
       "      <td>0.184698</td>\n",
       "      <td>1.000000</td>\n",
       "      <td>0.142963</td>\n",
       "      <td>0.108812</td>\n",
       "      <td>0.165701</td>\n",
       "      <td>0.159850</td>\n",
       "      <td>0.172131</td>\n",
       "      <td>0.181459</td>\n",
       "      <td>0.288787</td>\n",
       "      <td>-0.024878</td>\n",
       "    </tr>\n",
       "    <tr>\n",
       "      <th>PAY_AMT1</th>\n",
       "      <td>-0.000741</td>\n",
       "      <td>-0.032029</td>\n",
       "      <td>-0.009752</td>\n",
       "      <td>0.032147</td>\n",
       "      <td>-0.078706</td>\n",
       "      <td>0.142963</td>\n",
       "      <td>1.000000</td>\n",
       "      <td>0.326614</td>\n",
       "      <td>0.270848</td>\n",
       "      <td>0.229555</td>\n",
       "      <td>0.149664</td>\n",
       "      <td>0.213823</td>\n",
       "      <td>0.175667</td>\n",
       "      <td>-0.070114</td>\n",
       "    </tr>\n",
       "    <tr>\n",
       "      <th>PAY_AMT2</th>\n",
       "      <td>-0.006204</td>\n",
       "      <td>-0.026379</td>\n",
       "      <td>-0.009655</td>\n",
       "      <td>0.028545</td>\n",
       "      <td>-0.073429</td>\n",
       "      <td>0.108812</td>\n",
       "      <td>0.326614</td>\n",
       "      <td>1.000000</td>\n",
       "      <td>0.281688</td>\n",
       "      <td>0.225327</td>\n",
       "      <td>0.149662</td>\n",
       "      <td>0.185917</td>\n",
       "      <td>0.164158</td>\n",
       "      <td>-0.066631</td>\n",
       "    </tr>\n",
       "    <tr>\n",
       "      <th>PAY_AMT3</th>\n",
       "      <td>-0.001941</td>\n",
       "      <td>-0.038094</td>\n",
       "      <td>0.000083</td>\n",
       "      <td>0.026337</td>\n",
       "      <td>-0.068080</td>\n",
       "      <td>0.165701</td>\n",
       "      <td>0.270848</td>\n",
       "      <td>0.281688</td>\n",
       "      <td>1.000000</td>\n",
       "      <td>0.242111</td>\n",
       "      <td>0.144324</td>\n",
       "      <td>0.176423</td>\n",
       "      <td>0.174627</td>\n",
       "      <td>-0.052702</td>\n",
       "    </tr>\n",
       "    <tr>\n",
       "      <th>PAY_AMT4</th>\n",
       "      <td>-0.000358</td>\n",
       "      <td>-0.044509</td>\n",
       "      <td>-0.010333</td>\n",
       "      <td>0.026664</td>\n",
       "      <td>-0.067495</td>\n",
       "      <td>0.159850</td>\n",
       "      <td>0.229555</td>\n",
       "      <td>0.225327</td>\n",
       "      <td>0.242111</td>\n",
       "      <td>1.000000</td>\n",
       "      <td>0.138113</td>\n",
       "      <td>0.170479</td>\n",
       "      <td>0.181282</td>\n",
       "      <td>-0.055853</td>\n",
       "    </tr>\n",
       "    <tr>\n",
       "      <th>PAY_AMT5</th>\n",
       "      <td>0.003239</td>\n",
       "      <td>-0.036421</td>\n",
       "      <td>-0.004612</td>\n",
       "      <td>0.030101</td>\n",
       "      <td>-0.060391</td>\n",
       "      <td>0.172131</td>\n",
       "      <td>0.149664</td>\n",
       "      <td>0.149662</td>\n",
       "      <td>0.144324</td>\n",
       "      <td>0.138113</td>\n",
       "      <td>1.000000</td>\n",
       "      <td>0.160545</td>\n",
       "      <td>0.190951</td>\n",
       "      <td>-0.052220</td>\n",
       "    </tr>\n",
       "    <tr>\n",
       "      <th>PAY_AMT6</th>\n",
       "      <td>-0.003829</td>\n",
       "      <td>-0.033139</td>\n",
       "      <td>-0.008814</td>\n",
       "      <td>0.024031</td>\n",
       "      <td>-0.060274</td>\n",
       "      <td>0.181459</td>\n",
       "      <td>0.213823</td>\n",
       "      <td>0.185917</td>\n",
       "      <td>0.176423</td>\n",
       "      <td>0.170479</td>\n",
       "      <td>0.160545</td>\n",
       "      <td>1.000000</td>\n",
       "      <td>0.188967</td>\n",
       "      <td>-0.055074</td>\n",
       "    </tr>\n",
       "    <tr>\n",
       "      <th>log_limit_bal</th>\n",
       "      <td>0.076398</td>\n",
       "      <td>-0.218835</td>\n",
       "      <td>-0.124224</td>\n",
       "      <td>0.142317</td>\n",
       "      <td>-0.284843</td>\n",
       "      <td>0.288787</td>\n",
       "      <td>0.175667</td>\n",
       "      <td>0.164158</td>\n",
       "      <td>0.174627</td>\n",
       "      <td>0.181282</td>\n",
       "      <td>0.190951</td>\n",
       "      <td>0.188967</td>\n",
       "      <td>1.000000</td>\n",
       "      <td>-0.180493</td>\n",
       "    </tr>\n",
       "    <tr>\n",
       "      <th>default payment next month</th>\n",
       "      <td>-0.042592</td>\n",
       "      <td>0.024080</td>\n",
       "      <td>-0.018953</td>\n",
       "      <td>0.007442</td>\n",
       "      <td>0.327370</td>\n",
       "      <td>-0.024878</td>\n",
       "      <td>-0.070114</td>\n",
       "      <td>-0.066631</td>\n",
       "      <td>-0.052702</td>\n",
       "      <td>-0.055853</td>\n",
       "      <td>-0.052220</td>\n",
       "      <td>-0.055074</td>\n",
       "      <td>-0.180493</td>\n",
       "      <td>1.000000</td>\n",
       "    </tr>\n",
       "  </tbody>\n",
       "</table>\n",
       "</div>"
      ],
      "text/plain": [
       "                                 SEX  EDUCATION  MARRIAGE       AGE     PAY_0  \\\n",
       "SEX                         1.000000   0.007141 -0.031797 -0.092993 -0.063384   \n",
       "EDUCATION                   0.007141   1.000000 -0.142210  0.168914  0.109288   \n",
       "MARRIAGE                   -0.031797  -0.142210  1.000000 -0.412734  0.021073   \n",
       "AGE                        -0.092993   0.168914 -0.412734  1.000000 -0.038690   \n",
       "PAY_0                      -0.063384   0.109288  0.021073 -0.038690  1.000000   \n",
       "BILL_AMT1                  -0.029792   0.029202 -0.023473  0.056000  0.184698   \n",
       "PAY_AMT1                   -0.000741  -0.032029 -0.009752  0.032147 -0.078706   \n",
       "PAY_AMT2                   -0.006204  -0.026379 -0.009655  0.028545 -0.073429   \n",
       "PAY_AMT3                   -0.001941  -0.038094  0.000083  0.026337 -0.068080   \n",
       "PAY_AMT4                   -0.000358  -0.044509 -0.010333  0.026664 -0.067495   \n",
       "PAY_AMT5                    0.003239  -0.036421 -0.004612  0.030101 -0.060391   \n",
       "PAY_AMT6                   -0.003829  -0.033139 -0.008814  0.024031 -0.060274   \n",
       "log_limit_bal               0.076398  -0.218835 -0.124224  0.142317 -0.284843   \n",
       "default payment next month -0.042592   0.024080 -0.018953  0.007442  0.327370   \n",
       "\n",
       "                            BILL_AMT1  PAY_AMT1  PAY_AMT2  PAY_AMT3  PAY_AMT4  \\\n",
       "SEX                         -0.029792 -0.000741 -0.006204 -0.001941 -0.000358   \n",
       "EDUCATION                    0.029202 -0.032029 -0.026379 -0.038094 -0.044509   \n",
       "MARRIAGE                    -0.023473 -0.009752 -0.009655  0.000083 -0.010333   \n",
       "AGE                          0.056000  0.032147  0.028545  0.026337  0.026664   \n",
       "PAY_0                        0.184698 -0.078706 -0.073429 -0.068080 -0.067495   \n",
       "BILL_AMT1                    1.000000  0.142963  0.108812  0.165701  0.159850   \n",
       "PAY_AMT1                     0.142963  1.000000  0.326614  0.270848  0.229555   \n",
       "PAY_AMT2                     0.108812  0.326614  1.000000  0.281688  0.225327   \n",
       "PAY_AMT3                     0.165701  0.270848  0.281688  1.000000  0.242111   \n",
       "PAY_AMT4                     0.159850  0.229555  0.225327  0.242111  1.000000   \n",
       "PAY_AMT5                     0.172131  0.149664  0.149662  0.144324  0.138113   \n",
       "PAY_AMT6                     0.181459  0.213823  0.185917  0.176423  0.170479   \n",
       "log_limit_bal                0.288787  0.175667  0.164158  0.174627  0.181282   \n",
       "default payment next month  -0.024878 -0.070114 -0.066631 -0.052702 -0.055853   \n",
       "\n",
       "                            PAY_AMT5  PAY_AMT6  log_limit_bal  \\\n",
       "SEX                         0.003239 -0.003829       0.076398   \n",
       "EDUCATION                  -0.036421 -0.033139      -0.218835   \n",
       "MARRIAGE                   -0.004612 -0.008814      -0.124224   \n",
       "AGE                         0.030101  0.024031       0.142317   \n",
       "PAY_0                      -0.060391 -0.060274      -0.284843   \n",
       "BILL_AMT1                   0.172131  0.181459       0.288787   \n",
       "PAY_AMT1                    0.149664  0.213823       0.175667   \n",
       "PAY_AMT2                    0.149662  0.185917       0.164158   \n",
       "PAY_AMT3                    0.144324  0.176423       0.174627   \n",
       "PAY_AMT4                    0.138113  0.170479       0.181282   \n",
       "PAY_AMT5                    1.000000  0.160545       0.190951   \n",
       "PAY_AMT6                    0.160545  1.000000       0.188967   \n",
       "log_limit_bal               0.190951  0.188967       1.000000   \n",
       "default payment next month -0.052220 -0.055074      -0.180493   \n",
       "\n",
       "                            default payment next month  \n",
       "SEX                                          -0.042592  \n",
       "EDUCATION                                     0.024080  \n",
       "MARRIAGE                                     -0.018953  \n",
       "AGE                                           0.007442  \n",
       "PAY_0                                         0.327370  \n",
       "BILL_AMT1                                    -0.024878  \n",
       "PAY_AMT1                                     -0.070114  \n",
       "PAY_AMT2                                     -0.066631  \n",
       "PAY_AMT3                                     -0.052702  \n",
       "PAY_AMT4                                     -0.055853  \n",
       "PAY_AMT5                                     -0.052220  \n",
       "PAY_AMT6                                     -0.055074  \n",
       "log_limit_bal                                -0.180493  \n",
       "default payment next month                    1.000000  "
      ]
     },
     "execution_count": 137,
     "metadata": {},
     "output_type": "execute_result"
    }
   ],
   "source": [
    "train = X_train.merge(y_train, left_index=True, right_index=True)\n",
    "train.corr()"
   ]
  },
  {
   "cell_type": "code",
   "execution_count": 138,
   "id": "b31805fe-7305-44d3-b6d0-ef4236a94749",
   "metadata": {
    "execution": {
     "iopub.execute_input": "2021-08-10T08:51:23.906640Z",
     "iopub.status.busy": "2021-08-10T08:51:23.906295Z",
     "iopub.status.idle": "2021-08-10T08:51:23.912588Z",
     "shell.execute_reply": "2021-08-10T08:51:23.911095Z",
     "shell.execute_reply.started": "2021-08-10T08:51:23.906599Z"
    }
   },
   "outputs": [],
   "source": [
    "from sklearn.preprocessing import StandardScaler"
   ]
  },
  {
   "cell_type": "code",
   "execution_count": 165,
   "id": "1e2ccf37-17d3-4b92-9907-7b25ec8fc017",
   "metadata": {
    "execution": {
     "iopub.execute_input": "2021-08-10T09:25:19.118759Z",
     "iopub.status.busy": "2021-08-10T09:25:19.118473Z",
     "iopub.status.idle": "2021-08-10T09:25:19.138074Z",
     "shell.execute_reply": "2021-08-10T09:25:19.137410Z",
     "shell.execute_reply.started": "2021-08-10T09:25:19.118728Z"
    },
    "tags": []
   },
   "outputs": [],
   "source": [
    "scaler = StandardScaler()\n",
    "X_train_scaled = scaler.fit_transform(X_train)"
   ]
  },
  {
   "cell_type": "code",
   "execution_count": 147,
   "id": "e3bdc622-ca7a-409e-bf9e-eedcfc7f497a",
   "metadata": {
    "execution": {
     "iopub.execute_input": "2021-08-10T09:13:34.947293Z",
     "iopub.status.busy": "2021-08-10T09:13:34.947016Z",
     "iopub.status.idle": "2021-08-10T09:13:34.952532Z",
     "shell.execute_reply": "2021-08-10T09:13:34.951464Z",
     "shell.execute_reply.started": "2021-08-10T09:13:34.947252Z"
    },
    "tags": []
   },
   "outputs": [],
   "source": [
    "from sklearn.svm import LinearSVC\n",
    "from sklearn.linear_model import LogisticRegression\n",
    "from sklearn.neighbors import KNeighborsClassifier\n",
    "from sklearn.model_selection import GridSearchCV"
   ]
  },
  {
   "cell_type": "code",
   "execution_count": 189,
   "id": "4c3ac9ce-938e-4fb7-a78e-b0da18422a08",
   "metadata": {
    "execution": {
     "iopub.execute_input": "2021-08-10T09:47:54.148295Z",
     "iopub.status.busy": "2021-08-10T09:47:54.147803Z",
     "iopub.status.idle": "2021-08-10T09:47:54.156485Z",
     "shell.execute_reply": "2021-08-10T09:47:54.154916Z",
     "shell.execute_reply.started": "2021-08-10T09:47:54.148225Z"
    },
    "tags": []
   },
   "outputs": [],
   "source": [
    "svm_clf = LinearSVC(random_state=42, loss='hinge')\n",
    "log_clf = LogisticRegression(random_state=42, n_jobs=-1)\n",
    "knn_clf = KNeighborsClassifier(n_jobs=-1)"
   ]
  },
  {
   "cell_type": "code",
   "execution_count": 190,
   "id": "7b8d2122-7b2e-4a2a-980d-ee5bf14cbd3b",
   "metadata": {
    "execution": {
     "iopub.execute_input": "2021-08-10T09:47:54.923705Z",
     "iopub.status.busy": "2021-08-10T09:47:54.923296Z",
     "iopub.status.idle": "2021-08-10T09:47:54.931014Z",
     "shell.execute_reply": "2021-08-10T09:47:54.929545Z",
     "shell.execute_reply.started": "2021-08-10T09:47:54.923665Z"
    },
    "tags": []
   },
   "outputs": [],
   "source": [
    "params_svm = {\n",
    "    'C': [10e-4, 10e-3, 10e-2, 10e-1, 1]\n",
    "}\n",
    "\n",
    "params_log = {\n",
    "    'C': [10e-4, 10e-3, 10e-2, 10e-1, 1]\n",
    "}\n",
    "\n",
    "params_knn = {\n",
    "    'n_neighbors': [4, 5, 6],\n",
    "    'weights': ['uniform', 'distance']\n",
    "}"
   ]
  },
  {
   "cell_type": "code",
   "execution_count": 191,
   "id": "7e959464-9e89-42dc-92db-a699fb6805d5",
   "metadata": {
    "execution": {
     "iopub.execute_input": "2021-08-10T09:47:55.770727Z",
     "iopub.status.busy": "2021-08-10T09:47:55.770153Z",
     "iopub.status.idle": "2021-08-10T09:49:59.383509Z",
     "shell.execute_reply": "2021-08-10T09:49:59.382307Z",
     "shell.execute_reply.started": "2021-08-10T09:47:55.770638Z"
    },
    "tags": []
   },
   "outputs": [],
   "source": [
    "estimators = {}\n",
    "for estimator in [(svm_clf, params_svm), (log_clf, params_log), (knn_clf, params_knn)]:\n",
    "    estimators[estimator[0].__class__.__name__] = GridSearchCV(estimator=estimator[0], param_grid=estimator[1], \n",
    "                                                            n_jobs=-1, cv=5, return_train_score=True,\n",
    "                                                            scoring='f1').fit(X_train_scaled , np.ravel(y_train))"
   ]
  },
  {
   "cell_type": "code",
   "execution_count": 192,
   "id": "286c5ead-8c2a-43f5-8e19-cae158ff349f",
   "metadata": {
    "execution": {
     "iopub.execute_input": "2021-08-10T09:50:03.577749Z",
     "iopub.status.busy": "2021-08-10T09:50:03.577346Z",
     "iopub.status.idle": "2021-08-10T09:50:03.596677Z",
     "shell.execute_reply": "2021-08-10T09:50:03.595211Z",
     "shell.execute_reply.started": "2021-08-10T09:50:03.577656Z"
    },
    "tags": []
   },
   "outputs": [
    {
     "name": "stdout",
     "output_type": "stream",
     "text": [
      "LinearSVC --- {'C': 0.1}\n",
      "LogisticRegression --- {'C': 1.0}\n",
      "KNeighborsClassifier --- {'n_neighbors': 5, 'weights': 'distance'}\n"
     ]
    }
   ],
   "source": [
    "for estimator in estimators.keys():\n",
    "    print(f\"{estimator} --- {estimators[estimator].best_params_}\")"
   ]
  },
  {
   "cell_type": "code",
   "execution_count": 167,
   "id": "8c027a07-e1ad-41db-8b02-7d041f760fcb",
   "metadata": {
    "execution": {
     "iopub.execute_input": "2021-08-10T09:27:36.859071Z",
     "iopub.status.busy": "2021-08-10T09:27:36.858366Z",
     "iopub.status.idle": "2021-08-10T09:27:36.890454Z",
     "shell.execute_reply": "2021-08-10T09:27:36.889211Z",
     "shell.execute_reply.started": "2021-08-10T09:27:36.858714Z"
    },
    "tags": []
   },
   "outputs": [
    {
     "name": "stdout",
     "output_type": "stream",
     "text": [
      "LinearSVC --- 0.3814685408450716\n",
      "LogisticRegression --- 0.37011871472775587\n",
      "KNeighborsClassifier --- 0.4256177670640481\n"
     ]
    }
   ],
   "source": [
    "for estimator in estimators.keys():\n",
    "    print(f\"{estimator} --- {estimators[estimator].best_score_}\")"
   ]
  },
  {
   "cell_type": "code",
   "execution_count": 206,
   "id": "cf130c12-a203-42a1-8512-7f0dcf2b4e01",
   "metadata": {
    "execution": {
     "iopub.execute_input": "2021-08-10T11:36:55.283656Z",
     "iopub.status.busy": "2021-08-10T11:36:55.283257Z",
     "iopub.status.idle": "2021-08-10T11:37:04.907742Z",
     "shell.execute_reply": "2021-08-10T11:37:04.906829Z",
     "shell.execute_reply.started": "2021-08-10T11:36:55.283615Z"
    },
    "tags": []
   },
   "outputs": [
    {
     "name": "stdout",
     "output_type": "stream",
     "text": [
      "LinearSVC\n",
      "[[15757   598]\n",
      " [ 3413  1232]]\n",
      "LogisticRegression\n",
      "[[15876   479]\n",
      " [ 3477  1168]]\n",
      "KNeighborsClassifier\n",
      "[[15006  1349]\n",
      " [ 3001  1644]]\n"
     ]
    }
   ],
   "source": [
    "from sklearn.model_selection import cross_val_predict, cross_val_score\n",
    "from sklearn.metrics import confusion_matrix\n",
    "for estimator in estimators.keys():\n",
    "    y_train_pred = cross_val_predict(estimators[estimator].best_estimator_, X_train_scaled, np.ravel(y_train), cv=3)\n",
    "    print(f'{estimator}')\n",
    "    print(confusion_matrix(np.ravel(y_train), y_train_pred))"
   ]
  },
  {
   "cell_type": "code",
   "execution_count": 183,
   "id": "eed8bbc2-f723-4f0e-8eae-30d62a2b80bd",
   "metadata": {
    "execution": {
     "iopub.execute_input": "2021-08-10T09:43:57.439729Z",
     "iopub.status.busy": "2021-08-10T09:43:57.439450Z",
     "iopub.status.idle": "2021-08-10T09:44:02.952459Z",
     "shell.execute_reply": "2021-08-10T09:44:02.951288Z",
     "shell.execute_reply.started": "2021-08-10T09:43:57.439696Z"
    },
    "tags": []
   },
   "outputs": [
    {
     "data": {
      "text/plain": [
       "AdaBoostClassifier(base_estimator=DecisionTreeClassifier(max_depth=1),\n",
       "                   learning_rate=0.5, n_estimators=200, random_state=42)"
      ]
     },
     "execution_count": 183,
     "metadata": {},
     "output_type": "execute_result"
    }
   ],
   "source": [
    "from sklearn.tree import DecisionTreeClassifier\n",
    "from sklearn.ensemble import AdaBoostClassifier\n",
    "\n",
    "ada_clf = AdaBoostClassifier(\n",
    "    DecisionTreeClassifier(max_depth=1), n_estimators=200,\n",
    "    algorithm=\"SAMME.R\", learning_rate=0.5, random_state=42)"
   ]
  },
  {
   "cell_type": "code",
   "execution_count": 184,
   "id": "9ab048ed-38c7-45cb-8370-e595b71163be",
   "metadata": {
    "execution": {
     "iopub.execute_input": "2021-08-10T09:44:48.793902Z",
     "iopub.status.busy": "2021-08-10T09:44:48.793561Z",
     "iopub.status.idle": "2021-08-10T09:45:00.042253Z",
     "shell.execute_reply": "2021-08-10T09:45:00.041429Z",
     "shell.execute_reply.started": "2021-08-10T09:44:48.793862Z"
    },
    "tags": []
   },
   "outputs": [],
   "source": [
    "y_train_pred = cross_val_predict(ada_clf, X_train, np.ravel(y_train), cv=3)"
   ]
  },
  {
   "cell_type": "code",
   "execution_count": 185,
   "id": "2a2f2587-68ab-4580-8693-06ab63130a8a",
   "metadata": {
    "execution": {
     "iopub.execute_input": "2021-08-10T09:45:09.336565Z",
     "iopub.status.busy": "2021-08-10T09:45:09.336235Z",
     "iopub.status.idle": "2021-08-10T09:45:09.358631Z",
     "shell.execute_reply": "2021-08-10T09:45:09.358019Z",
     "shell.execute_reply.started": "2021-08-10T09:45:09.336532Z"
    },
    "tags": []
   },
   "outputs": [
    {
     "data": {
      "text/plain": [
       "array([[15585,   770],\n",
       "       [ 3040,  1605]])"
      ]
     },
     "execution_count": 185,
     "metadata": {},
     "output_type": "execute_result"
    }
   ],
   "source": [
    "confusion_matrix(np.ravel(y_train), y_train_pred)"
   ]
  },
  {
   "cell_type": "code",
   "execution_count": 187,
   "id": "4d2f8dca-94c8-4195-b5e0-d5d2bd9f63d1",
   "metadata": {
    "execution": {
     "iopub.execute_input": "2021-08-10T09:46:27.869925Z",
     "iopub.status.busy": "2021-08-10T09:46:27.869732Z",
     "iopub.status.idle": "2021-08-10T09:46:28.176331Z",
     "shell.execute_reply": "2021-08-10T09:46:28.175344Z",
     "shell.execute_reply.started": "2021-08-10T09:46:27.869908Z"
    },
    "tags": []
   },
   "outputs": [
    {
     "data": {
      "text/plain": [
       "array([[15511,   844],\n",
       "       [ 2926,  1719]])"
      ]
     },
     "execution_count": 187,
     "metadata": {},
     "output_type": "execute_result"
    }
   ],
   "source": [
    "from sklearn.ensemble import GradientBoostingClassifier\n",
    "\n",
    "gbrt = GradientBoostingClassifier(max_depth=2, n_estimators=3, learning_rate=1.0, random_state=42)\n",
    "y_train_pred = cross_val_predict(gbrt, X_train, np.ravel(y_train), cv=3)\n",
    "confusion_matrix(np.ravel(y_train), y_train_pred)"
   ]
  },
  {
   "cell_type": "code",
   "execution_count": 188,
   "id": "54b7994d-e851-4d09-8cd1-c75a30313926",
   "metadata": {
    "execution": {
     "iopub.execute_input": "2021-08-10T09:47:24.031022Z",
     "iopub.status.busy": "2021-08-10T09:47:24.030675Z",
     "iopub.status.idle": "2021-08-10T09:47:24.036890Z",
     "shell.execute_reply": "2021-08-10T09:47:24.035376Z",
     "shell.execute_reply.started": "2021-08-10T09:47:24.030983Z"
    }
   },
   "outputs": [],
   "source": [
    "from sklearn.ensemble import RandomForestClassifier, VotingClassifier"
   ]
  },
  {
   "cell_type": "code",
   "execution_count": 207,
   "id": "a6c451e3-41fa-44a3-9274-c672ce047895",
   "metadata": {
    "execution": {
     "iopub.execute_input": "2021-08-10T11:37:33.200618Z",
     "iopub.status.busy": "2021-08-10T11:37:33.200326Z",
     "iopub.status.idle": "2021-08-10T11:37:33.205827Z",
     "shell.execute_reply": "2021-08-10T11:37:33.204938Z",
     "shell.execute_reply.started": "2021-08-10T11:37:33.200574Z"
    },
    "tags": []
   },
   "outputs": [],
   "source": [
    "svm_clf = LinearSVC(random_state=42, loss='hinge', C=0.1)\n",
    "log_clf = LogisticRegression(random_state=42, n_jobs=-1, C=1)\n",
    "knn_clf = KNeighborsClassifier(n_jobs=-1, n_neighbors= 5, weights= 'distance')"
   ]
  },
  {
   "cell_type": "code",
   "execution_count": 208,
   "id": "14b340ed-2567-49b8-8d08-a7d862487ece",
   "metadata": {
    "execution": {
     "iopub.execute_input": "2021-08-10T11:37:34.068336Z",
     "iopub.status.busy": "2021-08-10T11:37:34.067895Z",
     "iopub.status.idle": "2021-08-10T11:37:34.073777Z",
     "shell.execute_reply": "2021-08-10T11:37:34.072993Z",
     "shell.execute_reply.started": "2021-08-10T11:37:34.068288Z"
    },
    "tags": []
   },
   "outputs": [],
   "source": [
    "\n",
    "voting_clf = VotingClassifier(estimators=[('svm', svm_clf), ('log', log_clf), ('knn', knn_clf)],\n",
    "                             voting='hard')"
   ]
  },
  {
   "cell_type": "code",
   "execution_count": 200,
   "id": "9a482882-3fed-4f05-951b-10d45efa6136",
   "metadata": {
    "execution": {
     "iopub.execute_input": "2021-08-10T09:57:44.759443Z",
     "iopub.status.busy": "2021-08-10T09:57:44.759139Z",
     "iopub.status.idle": "2021-08-10T09:57:53.321693Z",
     "shell.execute_reply": "2021-08-10T09:57:53.320460Z",
     "shell.execute_reply.started": "2021-08-10T09:57:44.759413Z"
    },
    "tags": []
   },
   "outputs": [
    {
     "data": {
      "text/plain": [
       "array([[15818,   537],\n",
       "       [ 3372,  1273]])"
      ]
     },
     "execution_count": 200,
     "metadata": {},
     "output_type": "execute_result"
    }
   ],
   "source": [
    "y_train_pred = cross_val_predict(voting_clf, X_train_scaled, np.ravel(y_train), cv=3)\n",
    "confusion_matrix(np.ravel(y_train), y_train_pred)"
   ]
  },
  {
   "cell_type": "code",
   "execution_count": 209,
   "id": "3e9e8477-1023-4695-bb44-4e6d1745a681",
   "metadata": {
    "execution": {
     "iopub.execute_input": "2021-08-10T11:38:22.838610Z",
     "iopub.status.busy": "2021-08-10T11:38:22.838236Z",
     "iopub.status.idle": "2021-08-10T11:38:32.133181Z",
     "shell.execute_reply": "2021-08-10T11:38:32.132132Z",
     "shell.execute_reply.started": "2021-08-10T11:38:22.838542Z"
    }
   },
   "outputs": [],
   "source": [
    "y_score = cross_val_score(voting_clf, X_train_scaled, np.ravel(y_train), cv=3, scoring='f1')"
   ]
  },
  {
   "cell_type": "code",
   "execution_count": 211,
   "id": "f93724b3-35cb-47a9-bf84-05e7e978d62d",
   "metadata": {
    "execution": {
     "iopub.execute_input": "2021-08-10T11:39:34.596839Z",
     "iopub.status.busy": "2021-08-10T11:39:34.596471Z",
     "iopub.status.idle": "2021-08-10T11:39:34.604224Z",
     "shell.execute_reply": "2021-08-10T11:39:34.603062Z",
     "shell.execute_reply.started": "2021-08-10T11:39:34.596799Z"
    },
    "tags": []
   },
   "outputs": [
    {
     "data": {
      "text/plain": [
       "0.3940509626288053"
      ]
     },
     "execution_count": 211,
     "metadata": {},
     "output_type": "execute_result"
    }
   ],
   "source": [
    "y_score.mean()"
   ]
  },
  {
   "cell_type": "code",
   "execution_count": 215,
   "id": "0350fd9d-f80c-4ad3-b9de-7b80599d7ef2",
   "metadata": {
    "execution": {
     "iopub.execute_input": "2021-08-10T12:33:21.874842Z",
     "iopub.status.busy": "2021-08-10T12:33:21.874469Z",
     "iopub.status.idle": "2021-08-10T12:33:23.182000Z",
     "shell.execute_reply": "2021-08-10T12:33:23.181163Z",
     "shell.execute_reply.started": "2021-08-10T12:33:21.874776Z"
    },
    "tags": []
   },
   "outputs": [
    {
     "data": {
      "image/png": "[encoded data removed]",
      "text/plain": [
       "<Figure size 432x288 with 2 Axes>"
      ]
     },
     "metadata": {},
     "output_type": "display_data"
    }
   ],
   "source": [
    "from sklearn.metrics import confusion_matrix, ConfusionMatrixDisplay\n",
    "extt_clf = ExtraTreesClassifier(random_state=42, n_jobs=-1, max_features= None, max_leaf_nodes= 15, n_estimators= 300)\n",
    "extt_clf.fit(X_train, np.ravel(y_train))\n",
    "\n",
    "X_test = pd.read_parquet('data/x_test.parquet')\n",
    "y_test = pd.read_parquet('data/y_test.parquet')\n",
    "\n",
    "y_test_pred = extt_clf.predict(X_test)\n",
    "         \n",
    "cm = confusion_matrix(np.ravel(y_test), y_test_pred)\n",
    "disp = ConfusionMatrixDisplay(confusion_matrix=cm)\n",
    "disp.plot()\n",
    "plt.savefig('./report/confusion.png', dpi=400)"
   ]
  }
 ],
 "metadata": {
  "kernelspec": {
   "display_name": "Python 3",
   "language": "python",
   "name": "python3"
  },
  "language_info": {
   "codemirror_mode": {
    "name": "ipython",
    "version": 3
   },
   "file_extension": ".py",
   "mimetype": "text/x-python",
   "name": "python",
   "nbconvert_exporter": "python",
   "pygments_lexer": "ipython3",
   "version": "3.9.4"
  }
 },
 "nbformat": 4,
 "nbformat_minor": 5
}
